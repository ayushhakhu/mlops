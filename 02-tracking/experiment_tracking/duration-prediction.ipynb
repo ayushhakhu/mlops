{
 "cells": [
  {
   "cell_type": "code",
   "execution_count": 1,
   "id": "e829f0e8-ced1-49c5-a138-e443a3cb7c94",
   "metadata": {},
   "outputs": [
    {
     "name": "stdout",
     "output_type": "stream",
     "text": [
      "Python 3.12.1\n"
     ]
    }
   ],
   "source": [
    "!python -V"
   ]
  },
  {
   "cell_type": "code",
   "execution_count": 2,
   "id": "50b5468d",
   "metadata": {},
   "outputs": [
    {
     "name": "stdout",
     "output_type": "stream",
     "text": [
      "Requirement already satisfied: mlflow in /usr/local/python/3.12.1/lib/python3.12/site-packages (3.1.1)\n",
      "Requirement already satisfied: mlflow-skinny==3.1.1 in /usr/local/python/3.12.1/lib/python3.12/site-packages (from mlflow) (3.1.1)\n",
      "Requirement already satisfied: Flask<4 in /usr/local/python/3.12.1/lib/python3.12/site-packages (from mlflow) (3.1.1)\n",
      "Requirement already satisfied: alembic!=1.10.0,<2 in /usr/local/python/3.12.1/lib/python3.12/site-packages (from mlflow) (1.16.4)\n",
      "Requirement already satisfied: docker<8,>=4.0.0 in /usr/local/python/3.12.1/lib/python3.12/site-packages (from mlflow) (7.1.0)\n",
      "Requirement already satisfied: graphene<4 in /usr/local/python/3.12.1/lib/python3.12/site-packages (from mlflow) (3.4.3)\n",
      "Requirement already satisfied: gunicorn<24 in /usr/local/python/3.12.1/lib/python3.12/site-packages (from mlflow) (23.0.0)\n",
      "Requirement already satisfied: matplotlib<4 in /home/codespace/.local/lib/python3.12/site-packages (from mlflow) (3.10.1)\n",
      "Requirement already satisfied: numpy<3 in /home/codespace/.local/lib/python3.12/site-packages (from mlflow) (2.2.4)\n",
      "Requirement already satisfied: pandas<3 in /home/codespace/.local/lib/python3.12/site-packages (from mlflow) (2.2.3)\n",
      "Requirement already satisfied: pyarrow<21,>=4.0.0 in /usr/local/python/3.12.1/lib/python3.12/site-packages (from mlflow) (20.0.0)\n",
      "Requirement already satisfied: scikit-learn<2 in /home/codespace/.local/lib/python3.12/site-packages (from mlflow) (1.6.1)\n",
      "Requirement already satisfied: scipy<2 in /home/codespace/.local/lib/python3.12/site-packages (from mlflow) (1.15.2)\n",
      "Requirement already satisfied: sqlalchemy<3,>=1.4.0 in /usr/local/python/3.12.1/lib/python3.12/site-packages (from mlflow) (2.0.41)\n",
      "Requirement already satisfied: cachetools<7,>=5.0.0 in /usr/local/python/3.12.1/lib/python3.12/site-packages (from mlflow-skinny==3.1.1->mlflow) (5.5.2)\n",
      "Requirement already satisfied: click<9,>=7.0 in /usr/local/python/3.12.1/lib/python3.12/site-packages (from mlflow-skinny==3.1.1->mlflow) (8.2.1)\n",
      "Requirement already satisfied: cloudpickle<4 in /usr/local/python/3.12.1/lib/python3.12/site-packages (from mlflow-skinny==3.1.1->mlflow) (3.1.1)\n",
      "Requirement already satisfied: databricks-sdk<1,>=0.20.0 in /usr/local/python/3.12.1/lib/python3.12/site-packages (from mlflow-skinny==3.1.1->mlflow) (0.58.0)\n",
      "Requirement already satisfied: fastapi<1 in /usr/local/python/3.12.1/lib/python3.12/site-packages (from mlflow-skinny==3.1.1->mlflow) (0.116.1)\n",
      "Requirement already satisfied: gitpython<4,>=3.1.9 in /home/codespace/.local/lib/python3.12/site-packages (from mlflow-skinny==3.1.1->mlflow) (3.1.44)\n",
      "Requirement already satisfied: importlib_metadata!=4.7.0,<9,>=3.7.0 in /usr/local/python/3.12.1/lib/python3.12/site-packages (from mlflow-skinny==3.1.1->mlflow) (8.7.0)\n",
      "Requirement already satisfied: opentelemetry-api<3,>=1.9.0 in /usr/local/python/3.12.1/lib/python3.12/site-packages (from mlflow-skinny==3.1.1->mlflow) (1.35.0)\n",
      "Requirement already satisfied: opentelemetry-sdk<3,>=1.9.0 in /usr/local/python/3.12.1/lib/python3.12/site-packages (from mlflow-skinny==3.1.1->mlflow) (1.35.0)\n",
      "Requirement already satisfied: packaging<26 in /home/codespace/.local/lib/python3.12/site-packages (from mlflow-skinny==3.1.1->mlflow) (24.2)\n",
      "Requirement already satisfied: protobuf<7,>=3.12.0 in /usr/local/python/3.12.1/lib/python3.12/site-packages (from mlflow-skinny==3.1.1->mlflow) (6.31.1)\n",
      "Requirement already satisfied: pydantic<3,>=1.10.8 in /usr/local/python/3.12.1/lib/python3.12/site-packages (from mlflow-skinny==3.1.1->mlflow) (2.11.7)\n",
      "Requirement already satisfied: pyyaml<7,>=5.1 in /home/codespace/.local/lib/python3.12/site-packages (from mlflow-skinny==3.1.1->mlflow) (6.0.2)\n",
      "Requirement already satisfied: requests<3,>=2.17.3 in /home/codespace/.local/lib/python3.12/site-packages (from mlflow-skinny==3.1.1->mlflow) (2.32.3)\n",
      "Requirement already satisfied: sqlparse<1,>=0.4.0 in /usr/local/python/3.12.1/lib/python3.12/site-packages (from mlflow-skinny==3.1.1->mlflow) (0.5.3)\n",
      "Requirement already satisfied: typing-extensions<5,>=4.0.0 in /home/codespace/.local/lib/python3.12/site-packages (from mlflow-skinny==3.1.1->mlflow) (4.12.2)\n",
      "Requirement already satisfied: uvicorn<1 in /usr/local/python/3.12.1/lib/python3.12/site-packages (from mlflow-skinny==3.1.1->mlflow) (0.35.0)\n",
      "Requirement already satisfied: Mako in /usr/local/python/3.12.1/lib/python3.12/site-packages (from alembic!=1.10.0,<2->mlflow) (1.3.10)\n",
      "Requirement already satisfied: urllib3>=1.26.0 in /home/codespace/.local/lib/python3.12/site-packages (from docker<8,>=4.0.0->mlflow) (2.3.0)\n",
      "Requirement already satisfied: blinker>=1.9.0 in /usr/local/python/3.12.1/lib/python3.12/site-packages (from Flask<4->mlflow) (1.9.0)\n",
      "Requirement already satisfied: itsdangerous>=2.2.0 in /usr/local/python/3.12.1/lib/python3.12/site-packages (from Flask<4->mlflow) (2.2.0)\n",
      "Requirement already satisfied: jinja2>=3.1.2 in /home/codespace/.local/lib/python3.12/site-packages (from Flask<4->mlflow) (3.1.6)\n",
      "Requirement already satisfied: markupsafe>=2.1.1 in /home/codespace/.local/lib/python3.12/site-packages (from Flask<4->mlflow) (3.0.2)\n",
      "Requirement already satisfied: werkzeug>=3.1.0 in /usr/local/python/3.12.1/lib/python3.12/site-packages (from Flask<4->mlflow) (3.1.3)\n",
      "Requirement already satisfied: graphql-core<3.3,>=3.1 in /usr/local/python/3.12.1/lib/python3.12/site-packages (from graphene<4->mlflow) (3.2.6)\n",
      "Requirement already satisfied: graphql-relay<3.3,>=3.1 in /usr/local/python/3.12.1/lib/python3.12/site-packages (from graphene<4->mlflow) (3.2.0)\n",
      "Requirement already satisfied: python-dateutil<3,>=2.7.0 in /home/codespace/.local/lib/python3.12/site-packages (from graphene<4->mlflow) (2.9.0.post0)\n",
      "Requirement already satisfied: contourpy>=1.0.1 in /home/codespace/.local/lib/python3.12/site-packages (from matplotlib<4->mlflow) (1.3.1)\n",
      "Requirement already satisfied: cycler>=0.10 in /home/codespace/.local/lib/python3.12/site-packages (from matplotlib<4->mlflow) (0.12.1)\n",
      "Requirement already satisfied: fonttools>=4.22.0 in /home/codespace/.local/lib/python3.12/site-packages (from matplotlib<4->mlflow) (4.56.0)\n",
      "Requirement already satisfied: kiwisolver>=1.3.1 in /home/codespace/.local/lib/python3.12/site-packages (from matplotlib<4->mlflow) (1.4.8)\n",
      "Requirement already satisfied: pillow>=8 in /home/codespace/.local/lib/python3.12/site-packages (from matplotlib<4->mlflow) (11.1.0)\n",
      "Requirement already satisfied: pyparsing>=2.3.1 in /home/codespace/.local/lib/python3.12/site-packages (from matplotlib<4->mlflow) (3.2.1)\n",
      "Requirement already satisfied: pytz>=2020.1 in /home/codespace/.local/lib/python3.12/site-packages (from pandas<3->mlflow) (2025.1)\n",
      "Requirement already satisfied: tzdata>=2022.7 in /home/codespace/.local/lib/python3.12/site-packages (from pandas<3->mlflow) (2025.1)\n",
      "Requirement already satisfied: joblib>=1.2.0 in /home/codespace/.local/lib/python3.12/site-packages (from scikit-learn<2->mlflow) (1.4.2)\n",
      "Requirement already satisfied: threadpoolctl>=3.1.0 in /home/codespace/.local/lib/python3.12/site-packages (from scikit-learn<2->mlflow) (3.6.0)\n",
      "Requirement already satisfied: greenlet>=1 in /usr/local/python/3.12.1/lib/python3.12/site-packages (from sqlalchemy<3,>=1.4.0->mlflow) (3.2.3)\n",
      "Requirement already satisfied: google-auth~=2.0 in /usr/local/python/3.12.1/lib/python3.12/site-packages (from databricks-sdk<1,>=0.20.0->mlflow-skinny==3.1.1->mlflow) (2.40.3)\n",
      "Requirement already satisfied: starlette<0.48.0,>=0.40.0 in /usr/local/python/3.12.1/lib/python3.12/site-packages (from fastapi<1->mlflow-skinny==3.1.1->mlflow) (0.47.1)\n",
      "Requirement already satisfied: gitdb<5,>=4.0.1 in /home/codespace/.local/lib/python3.12/site-packages (from gitpython<4,>=3.1.9->mlflow-skinny==3.1.1->mlflow) (4.0.12)\n",
      "Requirement already satisfied: zipp>=3.20 in /usr/local/python/3.12.1/lib/python3.12/site-packages (from importlib_metadata!=4.7.0,<9,>=3.7.0->mlflow-skinny==3.1.1->mlflow) (3.23.0)\n",
      "Requirement already satisfied: opentelemetry-semantic-conventions==0.56b0 in /usr/local/python/3.12.1/lib/python3.12/site-packages (from opentelemetry-sdk<3,>=1.9.0->mlflow-skinny==3.1.1->mlflow) (0.56b0)\n",
      "Requirement already satisfied: annotated-types>=0.6.0 in /usr/local/python/3.12.1/lib/python3.12/site-packages (from pydantic<3,>=1.10.8->mlflow-skinny==3.1.1->mlflow) (0.7.0)\n",
      "Requirement already satisfied: pydantic-core==2.33.2 in /usr/local/python/3.12.1/lib/python3.12/site-packages (from pydantic<3,>=1.10.8->mlflow-skinny==3.1.1->mlflow) (2.33.2)\n",
      "Requirement already satisfied: typing-inspection>=0.4.0 in /usr/local/python/3.12.1/lib/python3.12/site-packages (from pydantic<3,>=1.10.8->mlflow-skinny==3.1.1->mlflow) (0.4.1)\n",
      "Requirement already satisfied: six>=1.5 in /home/codespace/.local/lib/python3.12/site-packages (from python-dateutil<3,>=2.7.0->graphene<4->mlflow) (1.17.0)\n",
      "Requirement already satisfied: charset-normalizer<4,>=2 in /home/codespace/.local/lib/python3.12/site-packages (from requests<3,>=2.17.3->mlflow-skinny==3.1.1->mlflow) (3.4.1)\n",
      "Requirement already satisfied: idna<4,>=2.5 in /home/codespace/.local/lib/python3.12/site-packages (from requests<3,>=2.17.3->mlflow-skinny==3.1.1->mlflow) (3.10)\n",
      "Requirement already satisfied: certifi>=2017.4.17 in /home/codespace/.local/lib/python3.12/site-packages (from requests<3,>=2.17.3->mlflow-skinny==3.1.1->mlflow) (2025.1.31)\n",
      "Requirement already satisfied: h11>=0.8 in /home/codespace/.local/lib/python3.12/site-packages (from uvicorn<1->mlflow-skinny==3.1.1->mlflow) (0.14.0)\n",
      "Requirement already satisfied: smmap<6,>=3.0.1 in /home/codespace/.local/lib/python3.12/site-packages (from gitdb<5,>=4.0.1->gitpython<4,>=3.1.9->mlflow-skinny==3.1.1->mlflow) (5.0.2)\n",
      "Requirement already satisfied: pyasn1-modules>=0.2.1 in /usr/local/python/3.12.1/lib/python3.12/site-packages (from google-auth~=2.0->databricks-sdk<1,>=0.20.0->mlflow-skinny==3.1.1->mlflow) (0.4.2)\n",
      "Requirement already satisfied: rsa<5,>=3.1.4 in /usr/local/python/3.12.1/lib/python3.12/site-packages (from google-auth~=2.0->databricks-sdk<1,>=0.20.0->mlflow-skinny==3.1.1->mlflow) (4.9.1)\n",
      "Requirement already satisfied: anyio<5,>=3.6.2 in /home/codespace/.local/lib/python3.12/site-packages (from starlette<0.48.0,>=0.40.0->fastapi<1->mlflow-skinny==3.1.1->mlflow) (4.9.0)\n",
      "Requirement already satisfied: sniffio>=1.1 in /home/codespace/.local/lib/python3.12/site-packages (from anyio<5,>=3.6.2->starlette<0.48.0,>=0.40.0->fastapi<1->mlflow-skinny==3.1.1->mlflow) (1.3.1)\n",
      "Requirement already satisfied: pyasn1<0.7.0,>=0.6.1 in /usr/local/python/3.12.1/lib/python3.12/site-packages (from pyasn1-modules>=0.2.1->google-auth~=2.0->databricks-sdk<1,>=0.20.0->mlflow-skinny==3.1.1->mlflow) (0.6.1)\n",
      "\n",
      "\u001b[1m[\u001b[0m\u001b[34;49mnotice\u001b[0m\u001b[1;39;49m]\u001b[0m\u001b[39;49m A new release of pip is available: \u001b[0m\u001b[31;49m25.0.1\u001b[0m\u001b[39;49m -> \u001b[0m\u001b[32;49m25.1.1\u001b[0m\n",
      "\u001b[1m[\u001b[0m\u001b[34;49mnotice\u001b[0m\u001b[1;39;49m]\u001b[0m\u001b[39;49m To update, run: \u001b[0m\u001b[32;49mpython3 -m pip install --upgrade pip\u001b[0m\n"
     ]
    }
   ],
   "source": [
    "!pip install mlflow"
   ]
  },
  {
   "cell_type": "code",
   "execution_count": 3,
   "id": "39d98db7-1688-401c-a1a2-4a18108145ca",
   "metadata": {},
   "outputs": [],
   "source": [
    "import pandas as pd\n",
    "import seaborn as sns\n",
    "import matplotlib.pyplot as plt\n",
    "%matplotlib inline"
   ]
  },
  {
   "cell_type": "code",
   "execution_count": 4,
   "id": "34434ee8-977a-47e6-8453-c626ad8b3f6e",
   "metadata": {},
   "outputs": [],
   "source": [
    "from sklearn.feature_extraction import DictVectorizer\n",
    "from sklearn.linear_model import LinearRegression\n",
    "from sklearn.linear_model import Lasso\n",
    "from sklearn.linear_model import Ridge\n",
    "\n",
    "from sklearn.metrics import root_mean_squared_error"
   ]
  },
  {
   "cell_type": "code",
   "execution_count": 5,
   "id": "7fc7aaf5",
   "metadata": {},
   "outputs": [
    {
     "name": "stderr",
     "output_type": "stream",
     "text": [
      "2025/07/20 05:44:12 INFO mlflow.store.db.utils: Creating initial MLflow database tables...\n",
      "2025/07/20 05:44:12 INFO mlflow.store.db.utils: Updating database tables\n",
      "INFO  [alembic.runtime.migration] Context impl SQLiteImpl.\n",
      "INFO  [alembic.runtime.migration] Will assume non-transactional DDL.\n",
      "INFO  [alembic.runtime.migration] Context impl SQLiteImpl.\n",
      "INFO  [alembic.runtime.migration] Will assume non-transactional DDL.\n"
     ]
    },
    {
     "data": {
      "text/plain": [
       "<Experiment: artifact_location='/workspaces/mlops/03-tracking/experiment_tracking/mlruns/1', creation_time=1752983372847, experiment_id='1', last_update_time=1752983372847, lifecycle_stage='active', name='nyc-taxi-experiments', tags={}>"
      ]
     },
     "execution_count": 5,
     "metadata": {},
     "output_type": "execute_result"
    }
   ],
   "source": [
    "import mlflow\n",
    "\n",
    "# mlflow.set_tracking_uri(\"sqlite:///mlflow.db\")\n",
    "# mlflow.set_experiment('nyc-taxi-experiments')\n",
    "\n",
    "# with mlflow.start_run():\n",
    "#     mlflow.log_param(\"test_param\", 123)\n",
    "#     mlflow.log_metric(\"test_metric\", 0.456)\n",
    "mlflow.set_tracking_uri(\"sqlite:////workspaces/mlops/mlflow.db\")\n",
    "mlflow.set_experiment('nyc-taxi-experiments')\n"
   ]
  },
  {
   "cell_type": "code",
   "execution_count": 6,
   "id": "40c90a17-6018-4c35-ab26-fa78edd18c8e",
   "metadata": {},
   "outputs": [],
   "source": [
    "df = pd.read_parquet('https://d37ci6vzurychx.cloudfront.net/trip-data/green_tripdata_2021-02.parquet')"
   ]
  },
  {
   "cell_type": "code",
   "execution_count": 7,
   "id": "893d22ea-5136-4302-b9c3-be955cd23a88",
   "metadata": {},
   "outputs": [],
   "source": [
    "df = df[df.trip_type==2.0]"
   ]
  },
  {
   "cell_type": "code",
   "execution_count": 8,
   "id": "653971e9-2354-432b-8fa8-1b2d8ab57a9e",
   "metadata": {},
   "outputs": [
    {
     "data": {
      "text/html": [
       "<div>\n",
       "<style scoped>\n",
       "    .dataframe tbody tr th:only-of-type {\n",
       "        vertical-align: middle;\n",
       "    }\n",
       "\n",
       "    .dataframe tbody tr th {\n",
       "        vertical-align: top;\n",
       "    }\n",
       "\n",
       "    .dataframe thead th {\n",
       "        text-align: right;\n",
       "    }\n",
       "</style>\n",
       "<table border=\"1\" class=\"dataframe\">\n",
       "  <thead>\n",
       "    <tr style=\"text-align: right;\">\n",
       "      <th></th>\n",
       "      <th>VendorID</th>\n",
       "      <th>lpep_pickup_datetime</th>\n",
       "      <th>lpep_dropoff_datetime</th>\n",
       "      <th>store_and_fwd_flag</th>\n",
       "      <th>RatecodeID</th>\n",
       "      <th>PULocationID</th>\n",
       "      <th>DOLocationID</th>\n",
       "      <th>passenger_count</th>\n",
       "      <th>trip_distance</th>\n",
       "      <th>fare_amount</th>\n",
       "      <th>extra</th>\n",
       "      <th>mta_tax</th>\n",
       "      <th>tip_amount</th>\n",
       "      <th>tolls_amount</th>\n",
       "      <th>ehail_fee</th>\n",
       "      <th>improvement_surcharge</th>\n",
       "      <th>total_amount</th>\n",
       "      <th>payment_type</th>\n",
       "      <th>trip_type</th>\n",
       "      <th>congestion_surcharge</th>\n",
       "    </tr>\n",
       "  </thead>\n",
       "  <tbody>\n",
       "    <tr>\n",
       "      <th>5</th>\n",
       "      <td>2</td>\n",
       "      <td>2021-02-01 00:33:03</td>\n",
       "      <td>2021-02-01 00:40:54</td>\n",
       "      <td>N</td>\n",
       "      <td>5.0</td>\n",
       "      <td>197</td>\n",
       "      <td>219</td>\n",
       "      <td>1.0</td>\n",
       "      <td>3.30</td>\n",
       "      <td>15.0</td>\n",
       "      <td>0.0</td>\n",
       "      <td>0.0</td>\n",
       "      <td>0.76</td>\n",
       "      <td>0.00</td>\n",
       "      <td>None</td>\n",
       "      <td>0.3</td>\n",
       "      <td>16.06</td>\n",
       "      <td>1.0</td>\n",
       "      <td>2.0</td>\n",
       "      <td>0.0</td>\n",
       "    </tr>\n",
       "    <tr>\n",
       "      <th>9</th>\n",
       "      <td>2</td>\n",
       "      <td>2021-02-01 02:56:55</td>\n",
       "      <td>2021-02-01 02:58:38</td>\n",
       "      <td>N</td>\n",
       "      <td>5.0</td>\n",
       "      <td>78</td>\n",
       "      <td>78</td>\n",
       "      <td>1.0</td>\n",
       "      <td>0.00</td>\n",
       "      <td>24.0</td>\n",
       "      <td>0.0</td>\n",
       "      <td>0.0</td>\n",
       "      <td>0.00</td>\n",
       "      <td>0.00</td>\n",
       "      <td>None</td>\n",
       "      <td>0.3</td>\n",
       "      <td>24.30</td>\n",
       "      <td>2.0</td>\n",
       "      <td>2.0</td>\n",
       "      <td>0.0</td>\n",
       "    </tr>\n",
       "    <tr>\n",
       "      <th>17</th>\n",
       "      <td>2</td>\n",
       "      <td>2021-02-01 03:59:27</td>\n",
       "      <td>2021-02-01 03:59:34</td>\n",
       "      <td>N</td>\n",
       "      <td>5.0</td>\n",
       "      <td>136</td>\n",
       "      <td>136</td>\n",
       "      <td>1.0</td>\n",
       "      <td>0.19</td>\n",
       "      <td>10.0</td>\n",
       "      <td>0.0</td>\n",
       "      <td>0.0</td>\n",
       "      <td>0.30</td>\n",
       "      <td>0.00</td>\n",
       "      <td>None</td>\n",
       "      <td>0.3</td>\n",
       "      <td>10.60</td>\n",
       "      <td>1.0</td>\n",
       "      <td>2.0</td>\n",
       "      <td>0.0</td>\n",
       "    </tr>\n",
       "    <tr>\n",
       "      <th>18</th>\n",
       "      <td>2</td>\n",
       "      <td>2021-02-01 04:09:11</td>\n",
       "      <td>2021-02-01 04:09:15</td>\n",
       "      <td>N</td>\n",
       "      <td>5.0</td>\n",
       "      <td>116</td>\n",
       "      <td>116</td>\n",
       "      <td>2.0</td>\n",
       "      <td>0.00</td>\n",
       "      <td>7.0</td>\n",
       "      <td>0.0</td>\n",
       "      <td>0.0</td>\n",
       "      <td>0.00</td>\n",
       "      <td>0.00</td>\n",
       "      <td>None</td>\n",
       "      <td>0.3</td>\n",
       "      <td>7.30</td>\n",
       "      <td>2.0</td>\n",
       "      <td>2.0</td>\n",
       "      <td>0.0</td>\n",
       "    </tr>\n",
       "    <tr>\n",
       "      <th>54</th>\n",
       "      <td>2</td>\n",
       "      <td>2021-02-01 09:26:36</td>\n",
       "      <td>2021-02-01 09:26:36</td>\n",
       "      <td>N</td>\n",
       "      <td>5.0</td>\n",
       "      <td>94</td>\n",
       "      <td>74</td>\n",
       "      <td>1.0</td>\n",
       "      <td>0.00</td>\n",
       "      <td>22.0</td>\n",
       "      <td>0.0</td>\n",
       "      <td>0.0</td>\n",
       "      <td>3.00</td>\n",
       "      <td>0.00</td>\n",
       "      <td>None</td>\n",
       "      <td>0.3</td>\n",
       "      <td>25.30</td>\n",
       "      <td>1.0</td>\n",
       "      <td>2.0</td>\n",
       "      <td>0.0</td>\n",
       "    </tr>\n",
       "    <tr>\n",
       "      <th>...</th>\n",
       "      <td>...</td>\n",
       "      <td>...</td>\n",
       "      <td>...</td>\n",
       "      <td>...</td>\n",
       "      <td>...</td>\n",
       "      <td>...</td>\n",
       "      <td>...</td>\n",
       "      <td>...</td>\n",
       "      <td>...</td>\n",
       "      <td>...</td>\n",
       "      <td>...</td>\n",
       "      <td>...</td>\n",
       "      <td>...</td>\n",
       "      <td>...</td>\n",
       "      <td>...</td>\n",
       "      <td>...</td>\n",
       "      <td>...</td>\n",
       "      <td>...</td>\n",
       "      <td>...</td>\n",
       "      <td>...</td>\n",
       "    </tr>\n",
       "    <tr>\n",
       "      <th>35391</th>\n",
       "      <td>2</td>\n",
       "      <td>2021-02-28 20:15:35</td>\n",
       "      <td>2021-02-28 20:32:59</td>\n",
       "      <td>N</td>\n",
       "      <td>5.0</td>\n",
       "      <td>243</td>\n",
       "      <td>235</td>\n",
       "      <td>2.0</td>\n",
       "      <td>2.32</td>\n",
       "      <td>16.0</td>\n",
       "      <td>0.0</td>\n",
       "      <td>0.0</td>\n",
       "      <td>0.00</td>\n",
       "      <td>0.00</td>\n",
       "      <td>None</td>\n",
       "      <td>0.3</td>\n",
       "      <td>16.30</td>\n",
       "      <td>2.0</td>\n",
       "      <td>2.0</td>\n",
       "      <td>0.0</td>\n",
       "    </tr>\n",
       "    <tr>\n",
       "      <th>35423</th>\n",
       "      <td>2</td>\n",
       "      <td>2021-02-28 21:54:17</td>\n",
       "      <td>2021-02-28 22:04:58</td>\n",
       "      <td>N</td>\n",
       "      <td>5.0</td>\n",
       "      <td>247</td>\n",
       "      <td>69</td>\n",
       "      <td>2.0</td>\n",
       "      <td>1.51</td>\n",
       "      <td>18.0</td>\n",
       "      <td>0.0</td>\n",
       "      <td>0.0</td>\n",
       "      <td>0.00</td>\n",
       "      <td>0.00</td>\n",
       "      <td>None</td>\n",
       "      <td>0.3</td>\n",
       "      <td>18.30</td>\n",
       "      <td>2.0</td>\n",
       "      <td>2.0</td>\n",
       "      <td>0.0</td>\n",
       "    </tr>\n",
       "    <tr>\n",
       "      <th>35446</th>\n",
       "      <td>2</td>\n",
       "      <td>2021-02-28 22:07:07</td>\n",
       "      <td>2021-02-28 22:25:11</td>\n",
       "      <td>N</td>\n",
       "      <td>5.0</td>\n",
       "      <td>69</td>\n",
       "      <td>78</td>\n",
       "      <td>2.0</td>\n",
       "      <td>3.57</td>\n",
       "      <td>12.0</td>\n",
       "      <td>0.0</td>\n",
       "      <td>0.0</td>\n",
       "      <td>0.00</td>\n",
       "      <td>0.00</td>\n",
       "      <td>None</td>\n",
       "      <td>0.3</td>\n",
       "      <td>12.30</td>\n",
       "      <td>2.0</td>\n",
       "      <td>2.0</td>\n",
       "      <td>0.0</td>\n",
       "    </tr>\n",
       "    <tr>\n",
       "      <th>35447</th>\n",
       "      <td>2</td>\n",
       "      <td>2021-02-28 22:41:32</td>\n",
       "      <td>2021-02-28 23:08:58</td>\n",
       "      <td>N</td>\n",
       "      <td>5.0</td>\n",
       "      <td>69</td>\n",
       "      <td>74</td>\n",
       "      <td>2.0</td>\n",
       "      <td>5.06</td>\n",
       "      <td>17.0</td>\n",
       "      <td>0.0</td>\n",
       "      <td>0.0</td>\n",
       "      <td>0.00</td>\n",
       "      <td>0.00</td>\n",
       "      <td>None</td>\n",
       "      <td>0.3</td>\n",
       "      <td>17.30</td>\n",
       "      <td>2.0</td>\n",
       "      <td>2.0</td>\n",
       "      <td>0.0</td>\n",
       "    </tr>\n",
       "    <tr>\n",
       "      <th>35450</th>\n",
       "      <td>1</td>\n",
       "      <td>2021-02-28 23:50:57</td>\n",
       "      <td>2021-03-01 00:19:27</td>\n",
       "      <td>N</td>\n",
       "      <td>5.0</td>\n",
       "      <td>130</td>\n",
       "      <td>78</td>\n",
       "      <td>1.0</td>\n",
       "      <td>15.90</td>\n",
       "      <td>65.0</td>\n",
       "      <td>0.0</td>\n",
       "      <td>0.0</td>\n",
       "      <td>0.00</td>\n",
       "      <td>6.12</td>\n",
       "      <td>None</td>\n",
       "      <td>0.0</td>\n",
       "      <td>71.12</td>\n",
       "      <td>2.0</td>\n",
       "      <td>2.0</td>\n",
       "      <td>0.0</td>\n",
       "    </tr>\n",
       "  </tbody>\n",
       "</table>\n",
       "<p>1091 rows × 20 columns</p>\n",
       "</div>"
      ],
      "text/plain": [
       "       VendorID lpep_pickup_datetime lpep_dropoff_datetime store_and_fwd_flag  \\\n",
       "5             2  2021-02-01 00:33:03   2021-02-01 00:40:54                  N   \n",
       "9             2  2021-02-01 02:56:55   2021-02-01 02:58:38                  N   \n",
       "17            2  2021-02-01 03:59:27   2021-02-01 03:59:34                  N   \n",
       "18            2  2021-02-01 04:09:11   2021-02-01 04:09:15                  N   \n",
       "54            2  2021-02-01 09:26:36   2021-02-01 09:26:36                  N   \n",
       "...         ...                  ...                   ...                ...   \n",
       "35391         2  2021-02-28 20:15:35   2021-02-28 20:32:59                  N   \n",
       "35423         2  2021-02-28 21:54:17   2021-02-28 22:04:58                  N   \n",
       "35446         2  2021-02-28 22:07:07   2021-02-28 22:25:11                  N   \n",
       "35447         2  2021-02-28 22:41:32   2021-02-28 23:08:58                  N   \n",
       "35450         1  2021-02-28 23:50:57   2021-03-01 00:19:27                  N   \n",
       "\n",
       "       RatecodeID  PULocationID  DOLocationID  passenger_count  trip_distance  \\\n",
       "5             5.0           197           219              1.0           3.30   \n",
       "9             5.0            78            78              1.0           0.00   \n",
       "17            5.0           136           136              1.0           0.19   \n",
       "18            5.0           116           116              2.0           0.00   \n",
       "54            5.0            94            74              1.0           0.00   \n",
       "...           ...           ...           ...              ...            ...   \n",
       "35391         5.0           243           235              2.0           2.32   \n",
       "35423         5.0           247            69              2.0           1.51   \n",
       "35446         5.0            69            78              2.0           3.57   \n",
       "35447         5.0            69            74              2.0           5.06   \n",
       "35450         5.0           130            78              1.0          15.90   \n",
       "\n",
       "       fare_amount  extra  mta_tax  tip_amount  tolls_amount ehail_fee  \\\n",
       "5             15.0    0.0      0.0        0.76          0.00      None   \n",
       "9             24.0    0.0      0.0        0.00          0.00      None   \n",
       "17            10.0    0.0      0.0        0.30          0.00      None   \n",
       "18             7.0    0.0      0.0        0.00          0.00      None   \n",
       "54            22.0    0.0      0.0        3.00          0.00      None   \n",
       "...            ...    ...      ...         ...           ...       ...   \n",
       "35391         16.0    0.0      0.0        0.00          0.00      None   \n",
       "35423         18.0    0.0      0.0        0.00          0.00      None   \n",
       "35446         12.0    0.0      0.0        0.00          0.00      None   \n",
       "35447         17.0    0.0      0.0        0.00          0.00      None   \n",
       "35450         65.0    0.0      0.0        0.00          6.12      None   \n",
       "\n",
       "       improvement_surcharge  total_amount  payment_type  trip_type  \\\n",
       "5                        0.3         16.06           1.0        2.0   \n",
       "9                        0.3         24.30           2.0        2.0   \n",
       "17                       0.3         10.60           1.0        2.0   \n",
       "18                       0.3          7.30           2.0        2.0   \n",
       "54                       0.3         25.30           1.0        2.0   \n",
       "...                      ...           ...           ...        ...   \n",
       "35391                    0.3         16.30           2.0        2.0   \n",
       "35423                    0.3         18.30           2.0        2.0   \n",
       "35446                    0.3         12.30           2.0        2.0   \n",
       "35447                    0.3         17.30           2.0        2.0   \n",
       "35450                    0.0         71.12           2.0        2.0   \n",
       "\n",
       "       congestion_surcharge  \n",
       "5                       0.0  \n",
       "9                       0.0  \n",
       "17                      0.0  \n",
       "18                      0.0  \n",
       "54                      0.0  \n",
       "...                     ...  \n",
       "35391                   0.0  \n",
       "35423                   0.0  \n",
       "35446                   0.0  \n",
       "35447                   0.0  \n",
       "35450                   0.0  \n",
       "\n",
       "[1091 rows x 20 columns]"
      ]
     },
     "execution_count": 8,
     "metadata": {},
     "output_type": "execute_result"
    }
   ],
   "source": [
    "df"
   ]
  },
  {
   "cell_type": "code",
   "execution_count": 9,
   "id": "423d78f3-ee14-439c-9a73-b07551fd6edc",
   "metadata": {},
   "outputs": [],
   "source": [
    "df['duration'] = df.lpep_dropoff_datetime - df.lpep_pickup_datetime\n",
    "df.duration = df.duration.apply(lambda td: td.total_seconds() / 60)\n",
    "\n",
    "df = df[(df.duration >= 1) & (df.duration <= 60)]\n"
   ]
  },
  {
   "cell_type": "code",
   "execution_count": 10,
   "id": "c6624250-a9fb-47e9-ae33-55a334d9df05",
   "metadata": {},
   "outputs": [
    {
     "data": {
      "text/html": [
       "<div>\n",
       "<style scoped>\n",
       "    .dataframe tbody tr th:only-of-type {\n",
       "        vertical-align: middle;\n",
       "    }\n",
       "\n",
       "    .dataframe tbody tr th {\n",
       "        vertical-align: top;\n",
       "    }\n",
       "\n",
       "    .dataframe thead th {\n",
       "        text-align: right;\n",
       "    }\n",
       "</style>\n",
       "<table border=\"1\" class=\"dataframe\">\n",
       "  <thead>\n",
       "    <tr style=\"text-align: right;\">\n",
       "      <th></th>\n",
       "      <th>VendorID</th>\n",
       "      <th>lpep_pickup_datetime</th>\n",
       "      <th>lpep_dropoff_datetime</th>\n",
       "      <th>store_and_fwd_flag</th>\n",
       "      <th>RatecodeID</th>\n",
       "      <th>PULocationID</th>\n",
       "      <th>DOLocationID</th>\n",
       "      <th>passenger_count</th>\n",
       "      <th>trip_distance</th>\n",
       "      <th>fare_amount</th>\n",
       "      <th>...</th>\n",
       "      <th>mta_tax</th>\n",
       "      <th>tip_amount</th>\n",
       "      <th>tolls_amount</th>\n",
       "      <th>ehail_fee</th>\n",
       "      <th>improvement_surcharge</th>\n",
       "      <th>total_amount</th>\n",
       "      <th>payment_type</th>\n",
       "      <th>trip_type</th>\n",
       "      <th>congestion_surcharge</th>\n",
       "      <th>duration</th>\n",
       "    </tr>\n",
       "  </thead>\n",
       "  <tbody>\n",
       "    <tr>\n",
       "      <th>5</th>\n",
       "      <td>2</td>\n",
       "      <td>2021-02-01 00:33:03</td>\n",
       "      <td>2021-02-01 00:40:54</td>\n",
       "      <td>N</td>\n",
       "      <td>5.0</td>\n",
       "      <td>197</td>\n",
       "      <td>219</td>\n",
       "      <td>1.0</td>\n",
       "      <td>3.30</td>\n",
       "      <td>15.0</td>\n",
       "      <td>...</td>\n",
       "      <td>0.0</td>\n",
       "      <td>0.76</td>\n",
       "      <td>0.00</td>\n",
       "      <td>None</td>\n",
       "      <td>0.3</td>\n",
       "      <td>16.06</td>\n",
       "      <td>1.0</td>\n",
       "      <td>2.0</td>\n",
       "      <td>0.00</td>\n",
       "      <td>7.850000</td>\n",
       "    </tr>\n",
       "    <tr>\n",
       "      <th>9</th>\n",
       "      <td>2</td>\n",
       "      <td>2021-02-01 02:56:55</td>\n",
       "      <td>2021-02-01 02:58:38</td>\n",
       "      <td>N</td>\n",
       "      <td>5.0</td>\n",
       "      <td>78</td>\n",
       "      <td>78</td>\n",
       "      <td>1.0</td>\n",
       "      <td>0.00</td>\n",
       "      <td>24.0</td>\n",
       "      <td>...</td>\n",
       "      <td>0.0</td>\n",
       "      <td>0.00</td>\n",
       "      <td>0.00</td>\n",
       "      <td>None</td>\n",
       "      <td>0.3</td>\n",
       "      <td>24.30</td>\n",
       "      <td>2.0</td>\n",
       "      <td>2.0</td>\n",
       "      <td>0.00</td>\n",
       "      <td>1.716667</td>\n",
       "    </tr>\n",
       "    <tr>\n",
       "      <th>114</th>\n",
       "      <td>2</td>\n",
       "      <td>2021-02-01 19:01:09</td>\n",
       "      <td>2021-02-01 19:11:20</td>\n",
       "      <td>N</td>\n",
       "      <td>5.0</td>\n",
       "      <td>75</td>\n",
       "      <td>74</td>\n",
       "      <td>1.0</td>\n",
       "      <td>1.80</td>\n",
       "      <td>15.0</td>\n",
       "      <td>...</td>\n",
       "      <td>0.0</td>\n",
       "      <td>0.00</td>\n",
       "      <td>0.00</td>\n",
       "      <td>None</td>\n",
       "      <td>0.3</td>\n",
       "      <td>15.30</td>\n",
       "      <td>1.0</td>\n",
       "      <td>2.0</td>\n",
       "      <td>0.00</td>\n",
       "      <td>10.183333</td>\n",
       "    </tr>\n",
       "    <tr>\n",
       "      <th>125</th>\n",
       "      <td>2</td>\n",
       "      <td>2021-02-01 22:57:12</td>\n",
       "      <td>2021-02-01 23:07:36</td>\n",
       "      <td>N</td>\n",
       "      <td>5.0</td>\n",
       "      <td>223</td>\n",
       "      <td>92</td>\n",
       "      <td>1.0</td>\n",
       "      <td>4.98</td>\n",
       "      <td>50.0</td>\n",
       "      <td>...</td>\n",
       "      <td>0.0</td>\n",
       "      <td>0.00</td>\n",
       "      <td>0.00</td>\n",
       "      <td>None</td>\n",
       "      <td>0.3</td>\n",
       "      <td>50.30</td>\n",
       "      <td>2.0</td>\n",
       "      <td>2.0</td>\n",
       "      <td>0.00</td>\n",
       "      <td>10.400000</td>\n",
       "    </tr>\n",
       "    <tr>\n",
       "      <th>150</th>\n",
       "      <td>2</td>\n",
       "      <td>2021-02-02 06:31:38</td>\n",
       "      <td>2021-02-02 06:50:10</td>\n",
       "      <td>N</td>\n",
       "      <td>5.0</td>\n",
       "      <td>223</td>\n",
       "      <td>100</td>\n",
       "      <td>1.0</td>\n",
       "      <td>5.64</td>\n",
       "      <td>50.0</td>\n",
       "      <td>...</td>\n",
       "      <td>0.0</td>\n",
       "      <td>13.26</td>\n",
       "      <td>0.00</td>\n",
       "      <td>None</td>\n",
       "      <td>0.3</td>\n",
       "      <td>66.31</td>\n",
       "      <td>1.0</td>\n",
       "      <td>2.0</td>\n",
       "      <td>2.75</td>\n",
       "      <td>18.533333</td>\n",
       "    </tr>\n",
       "    <tr>\n",
       "      <th>...</th>\n",
       "      <td>...</td>\n",
       "      <td>...</td>\n",
       "      <td>...</td>\n",
       "      <td>...</td>\n",
       "      <td>...</td>\n",
       "      <td>...</td>\n",
       "      <td>...</td>\n",
       "      <td>...</td>\n",
       "      <td>...</td>\n",
       "      <td>...</td>\n",
       "      <td>...</td>\n",
       "      <td>...</td>\n",
       "      <td>...</td>\n",
       "      <td>...</td>\n",
       "      <td>...</td>\n",
       "      <td>...</td>\n",
       "      <td>...</td>\n",
       "      <td>...</td>\n",
       "      <td>...</td>\n",
       "      <td>...</td>\n",
       "      <td>...</td>\n",
       "    </tr>\n",
       "    <tr>\n",
       "      <th>35391</th>\n",
       "      <td>2</td>\n",
       "      <td>2021-02-28 20:15:35</td>\n",
       "      <td>2021-02-28 20:32:59</td>\n",
       "      <td>N</td>\n",
       "      <td>5.0</td>\n",
       "      <td>243</td>\n",
       "      <td>235</td>\n",
       "      <td>2.0</td>\n",
       "      <td>2.32</td>\n",
       "      <td>16.0</td>\n",
       "      <td>...</td>\n",
       "      <td>0.0</td>\n",
       "      <td>0.00</td>\n",
       "      <td>0.00</td>\n",
       "      <td>None</td>\n",
       "      <td>0.3</td>\n",
       "      <td>16.30</td>\n",
       "      <td>2.0</td>\n",
       "      <td>2.0</td>\n",
       "      <td>0.00</td>\n",
       "      <td>17.400000</td>\n",
       "    </tr>\n",
       "    <tr>\n",
       "      <th>35423</th>\n",
       "      <td>2</td>\n",
       "      <td>2021-02-28 21:54:17</td>\n",
       "      <td>2021-02-28 22:04:58</td>\n",
       "      <td>N</td>\n",
       "      <td>5.0</td>\n",
       "      <td>247</td>\n",
       "      <td>69</td>\n",
       "      <td>2.0</td>\n",
       "      <td>1.51</td>\n",
       "      <td>18.0</td>\n",
       "      <td>...</td>\n",
       "      <td>0.0</td>\n",
       "      <td>0.00</td>\n",
       "      <td>0.00</td>\n",
       "      <td>None</td>\n",
       "      <td>0.3</td>\n",
       "      <td>18.30</td>\n",
       "      <td>2.0</td>\n",
       "      <td>2.0</td>\n",
       "      <td>0.00</td>\n",
       "      <td>10.683333</td>\n",
       "    </tr>\n",
       "    <tr>\n",
       "      <th>35446</th>\n",
       "      <td>2</td>\n",
       "      <td>2021-02-28 22:07:07</td>\n",
       "      <td>2021-02-28 22:25:11</td>\n",
       "      <td>N</td>\n",
       "      <td>5.0</td>\n",
       "      <td>69</td>\n",
       "      <td>78</td>\n",
       "      <td>2.0</td>\n",
       "      <td>3.57</td>\n",
       "      <td>12.0</td>\n",
       "      <td>...</td>\n",
       "      <td>0.0</td>\n",
       "      <td>0.00</td>\n",
       "      <td>0.00</td>\n",
       "      <td>None</td>\n",
       "      <td>0.3</td>\n",
       "      <td>12.30</td>\n",
       "      <td>2.0</td>\n",
       "      <td>2.0</td>\n",
       "      <td>0.00</td>\n",
       "      <td>18.066667</td>\n",
       "    </tr>\n",
       "    <tr>\n",
       "      <th>35447</th>\n",
       "      <td>2</td>\n",
       "      <td>2021-02-28 22:41:32</td>\n",
       "      <td>2021-02-28 23:08:58</td>\n",
       "      <td>N</td>\n",
       "      <td>5.0</td>\n",
       "      <td>69</td>\n",
       "      <td>74</td>\n",
       "      <td>2.0</td>\n",
       "      <td>5.06</td>\n",
       "      <td>17.0</td>\n",
       "      <td>...</td>\n",
       "      <td>0.0</td>\n",
       "      <td>0.00</td>\n",
       "      <td>0.00</td>\n",
       "      <td>None</td>\n",
       "      <td>0.3</td>\n",
       "      <td>17.30</td>\n",
       "      <td>2.0</td>\n",
       "      <td>2.0</td>\n",
       "      <td>0.00</td>\n",
       "      <td>27.433333</td>\n",
       "    </tr>\n",
       "    <tr>\n",
       "      <th>35450</th>\n",
       "      <td>1</td>\n",
       "      <td>2021-02-28 23:50:57</td>\n",
       "      <td>2021-03-01 00:19:27</td>\n",
       "      <td>N</td>\n",
       "      <td>5.0</td>\n",
       "      <td>130</td>\n",
       "      <td>78</td>\n",
       "      <td>1.0</td>\n",
       "      <td>15.90</td>\n",
       "      <td>65.0</td>\n",
       "      <td>...</td>\n",
       "      <td>0.0</td>\n",
       "      <td>0.00</td>\n",
       "      <td>6.12</td>\n",
       "      <td>None</td>\n",
       "      <td>0.0</td>\n",
       "      <td>71.12</td>\n",
       "      <td>2.0</td>\n",
       "      <td>2.0</td>\n",
       "      <td>0.00</td>\n",
       "      <td>28.500000</td>\n",
       "    </tr>\n",
       "  </tbody>\n",
       "</table>\n",
       "<p>612 rows × 21 columns</p>\n",
       "</div>"
      ],
      "text/plain": [
       "       VendorID lpep_pickup_datetime lpep_dropoff_datetime store_and_fwd_flag  \\\n",
       "5             2  2021-02-01 00:33:03   2021-02-01 00:40:54                  N   \n",
       "9             2  2021-02-01 02:56:55   2021-02-01 02:58:38                  N   \n",
       "114           2  2021-02-01 19:01:09   2021-02-01 19:11:20                  N   \n",
       "125           2  2021-02-01 22:57:12   2021-02-01 23:07:36                  N   \n",
       "150           2  2021-02-02 06:31:38   2021-02-02 06:50:10                  N   \n",
       "...         ...                  ...                   ...                ...   \n",
       "35391         2  2021-02-28 20:15:35   2021-02-28 20:32:59                  N   \n",
       "35423         2  2021-02-28 21:54:17   2021-02-28 22:04:58                  N   \n",
       "35446         2  2021-02-28 22:07:07   2021-02-28 22:25:11                  N   \n",
       "35447         2  2021-02-28 22:41:32   2021-02-28 23:08:58                  N   \n",
       "35450         1  2021-02-28 23:50:57   2021-03-01 00:19:27                  N   \n",
       "\n",
       "       RatecodeID  PULocationID  DOLocationID  passenger_count  trip_distance  \\\n",
       "5             5.0           197           219              1.0           3.30   \n",
       "9             5.0            78            78              1.0           0.00   \n",
       "114           5.0            75            74              1.0           1.80   \n",
       "125           5.0           223            92              1.0           4.98   \n",
       "150           5.0           223           100              1.0           5.64   \n",
       "...           ...           ...           ...              ...            ...   \n",
       "35391         5.0           243           235              2.0           2.32   \n",
       "35423         5.0           247            69              2.0           1.51   \n",
       "35446         5.0            69            78              2.0           3.57   \n",
       "35447         5.0            69            74              2.0           5.06   \n",
       "35450         5.0           130            78              1.0          15.90   \n",
       "\n",
       "       fare_amount  ...  mta_tax  tip_amount  tolls_amount  ehail_fee  \\\n",
       "5             15.0  ...      0.0        0.76          0.00       None   \n",
       "9             24.0  ...      0.0        0.00          0.00       None   \n",
       "114           15.0  ...      0.0        0.00          0.00       None   \n",
       "125           50.0  ...      0.0        0.00          0.00       None   \n",
       "150           50.0  ...      0.0       13.26          0.00       None   \n",
       "...            ...  ...      ...         ...           ...        ...   \n",
       "35391         16.0  ...      0.0        0.00          0.00       None   \n",
       "35423         18.0  ...      0.0        0.00          0.00       None   \n",
       "35446         12.0  ...      0.0        0.00          0.00       None   \n",
       "35447         17.0  ...      0.0        0.00          0.00       None   \n",
       "35450         65.0  ...      0.0        0.00          6.12       None   \n",
       "\n",
       "      improvement_surcharge  total_amount  payment_type  trip_type  \\\n",
       "5                       0.3         16.06           1.0        2.0   \n",
       "9                       0.3         24.30           2.0        2.0   \n",
       "114                     0.3         15.30           1.0        2.0   \n",
       "125                     0.3         50.30           2.0        2.0   \n",
       "150                     0.3         66.31           1.0        2.0   \n",
       "...                     ...           ...           ...        ...   \n",
       "35391                   0.3         16.30           2.0        2.0   \n",
       "35423                   0.3         18.30           2.0        2.0   \n",
       "35446                   0.3         12.30           2.0        2.0   \n",
       "35447                   0.3         17.30           2.0        2.0   \n",
       "35450                   0.0         71.12           2.0        2.0   \n",
       "\n",
       "       congestion_surcharge   duration  \n",
       "5                      0.00   7.850000  \n",
       "9                      0.00   1.716667  \n",
       "114                    0.00  10.183333  \n",
       "125                    0.00  10.400000  \n",
       "150                    2.75  18.533333  \n",
       "...                     ...        ...  \n",
       "35391                  0.00  17.400000  \n",
       "35423                  0.00  10.683333  \n",
       "35446                  0.00  18.066667  \n",
       "35447                  0.00  27.433333  \n",
       "35450                  0.00  28.500000  \n",
       "\n",
       "[612 rows x 21 columns]"
      ]
     },
     "execution_count": 10,
     "metadata": {},
     "output_type": "execute_result"
    }
   ],
   "source": [
    "df"
   ]
  },
  {
   "cell_type": "code",
   "execution_count": 11,
   "id": "aa87ca34-4509-4b74-ae0b-0ff8ed31a90d",
   "metadata": {},
   "outputs": [
    {
     "name": "stderr",
     "output_type": "stream",
     "text": [
      "/tmp/ipykernel_55158/3426635498.py:1: UserWarning: \n",
      "\n",
      "`distplot` is a deprecated function and will be removed in seaborn v0.14.0.\n",
      "\n",
      "Please adapt your code to use either `displot` (a figure-level function with\n",
      "similar flexibility) or `histplot` (an axes-level function for histograms).\n",
      "\n",
      "For a guide to updating your code to use the new functions, please see\n",
      "https://gist.github.com/mwaskom/de44147ed2974457ad6372750bbe5751\n",
      "\n",
      "  sns.distplot(df.duration)\n"
     ]
    },
    {
     "data": {
      "text/plain": [
       "<Axes: xlabel='duration', ylabel='Density'>"
      ]
     },
     "execution_count": 11,
     "metadata": {},
     "output_type": "execute_result"
    },
    {
     "data": {
      "image/png": "[encoded data removed]",
      "text/plain": [
       "<Figure size 640x480 with 1 Axes>"
      ]
     },
     "metadata": {},
     "output_type": "display_data"
    }
   ],
   "source": [
    "sns.distplot(df.duration)"
   ]
  },
  {
   "cell_type": "code",
   "execution_count": 12,
   "id": "452a4066-64bf-43d7-9a16-fa20ddd9b6fb",
   "metadata": {},
   "outputs": [
    {
     "data": {
      "text/plain": [
       "count    612.000000\n",
       "mean      16.866449\n",
       "std       11.411988\n",
       "min        1.000000\n",
       "50%       15.375000\n",
       "95%       37.394167\n",
       "98%       45.850667\n",
       "99%       49.217833\n",
       "max       57.116667\n",
       "Name: duration, dtype: float64"
      ]
     },
     "execution_count": 12,
     "metadata": {},
     "output_type": "execute_result"
    }
   ],
   "source": [
    "df.duration.describe(percentiles=[0.95,0.98,0.99])"
   ]
  },
  {
   "cell_type": "code",
   "execution_count": 13,
   "id": "d63342c7-f41b-46a1-85f5-b0d6aea3d729",
   "metadata": {},
   "outputs": [
    {
     "name": "stderr",
     "output_type": "stream",
     "text": [
      "/tmp/ipykernel_55158/4207740009.py:4: FutureWarning: Setting an item of incompatible dtype is deprecated and will raise in a future error of pandas. Value '['197' '78' '75' '223' '223' '116' '74' '129' '152' '47' '168' '75' '95'\n",
      " '265' '265' '69' '168' '28' '121' '130' '119' '215' '167' '75' '167'\n",
      " '241' '247' '42' '169' '41' '167' '42' '42' '60' '75' '74' '169' '243'\n",
      " '147' '95' '250' '98' '74' '124' '75' '250' '42' '51' '247' '254' '152'\n",
      " '41' '82' '78' '60' '130' '130' '69' '130' '69' '247' '41' '74' '134'\n",
      " '93' '74' '41' '41' '247' '16' '248' '17' '42' '69' '247' '82' '247'\n",
      " '250' '69' '41' '41' '69' '41' '41' '74' '119' '247' '74' '41' '243'\n",
      " '244' '74' '116' '130' '74' '130' '74' '74' '174' '254' '74' '235' '81'\n",
      " '59' '69' '247' '74' '42' '82' '95' '247' '116' '74' '20' '78' '220'\n",
      " '247' '69' '41' '247' '174' '42' '42' '47' '254' '82' '130' '25' '242'\n",
      " '134' '42' '121' '121' '196' '69' '32' '82' '69' '69' '213' '78' '69'\n",
      " '134' '169' '127' '235' '82' '121' '213' '135' '95' '244' '126' '97'\n",
      " '134' '42' '119' '95' '74' '95' '243' '243' '244' '42' '74' '60' '69'\n",
      " '69' '74' '247' '69' '168' '146' '39' '42' '223' '76' '121' '116' '134'\n",
      " '167' '82' '244' '17' '134' '135' '42' '60' '82' '168' '41' '85' '167'\n",
      " '212' '247' '69' '130' '152' '134' '166' '42' '159' '75' '131' '196'\n",
      " '223' '74' '74' '121' '196' '74' '82' '157' '82' '167' '82' '244' '241'\n",
      " '174' '196' '69' '82' '247' '247' '25' '69' '74' '134' '74' '126' '74'\n",
      " '74' '193' '74' '166' '181' '76' '75' '94' '119' '95' '119' '69' '82'\n",
      " '159' '248' '75' '247' '69' '69' '74' '74' '74' '82' '130' '74' '218'\n",
      " '74' '213' '74' '235' '3' '126' '247' '56' '247' '167' '247' '248' '167'\n",
      " '42' '167' '134' '129' '75' '81' '28' '168' '181' '82' '69' '168' '159'\n",
      " '247' '69' '69' '75' '247' '74' '134' '41' '185' '262' '94' '131' '226'\n",
      " '244' '212' '183' '217' '7' '193' '82' '129' '166' '74' '152' '41' '188'\n",
      " '188' '78' '134' '129' '130' '75' '74' '242' '131' '134' '196' '74' '74'\n",
      " '235' '82' '47' '47' '49' '74' '235' '247' '167' '260' '69' '247' '42'\n",
      " '18' '53' '69' '168' '254' '116' '94' '129' '174' '69' '41' '116' '42'\n",
      " '244' '244' '116' '75' '196' '250' '131' '121' '130' '42' '136' '130'\n",
      " '82' '167' '174' '159' '69' '74' '78' '258' '69' '69' '129' '247' '74'\n",
      " '168' '69' '174' '82' '82' '41' '41' '74' '134' '41' '74' '74' '74' '244'\n",
      " '134' '130' '74' '82' '193' '167' '74' '74' '82' '69' '74' '129' '47'\n",
      " '247' '69' '42' '82' '69' '247' '212' '119' '41' '65' '95' '69' '167'\n",
      " '42' '95' '129' '41' '215' '74' '32' '42' '74' '74' '74' '74' '216' '47'\n",
      " '159' '74' '247' '248' '74' '74' '69' '69' '159' '69' '69' '42' '247'\n",
      " '69' '69' '69' '147' '18' '247' '168' '228' '134' '42' '7' '82' '98'\n",
      " '175' '69' '159' '24' '247' '95' '247' '69' '95' '247' '95' '70' '95'\n",
      " '82' '244' '121' '121' '244' '244' '35' '42' '42' '168' '82' '130' '152'\n",
      " '60' '244' '134' '244' '244' '244' '244' '95' '145' '130' '42' '69' '83'\n",
      " '130' '174' '182' '82' '69' '69' '69' '42' '69' '129' '69' '42' '226'\n",
      " '240' '82' '41' '75' '74' '74' '69' '247' '41' '42' '74' '95' '82' '83'\n",
      " '69' '69' '95' '94' '119' '247' '83' '94' '129' '193' '41' '265' '10'\n",
      " '243' '69' '69' '181' '167' '196' '244' '82' '216' '159' '130' '129'\n",
      " '247' '147' '20' '69' '38' '247' '69' '74' '244' '83' '184' '235' '92'\n",
      " '208' '75' '263' '74' '254' '134' '247' '74' '74' '74' '93' '167' '74'\n",
      " '95' '212' '61' '75' '95' '134' '240' '74' '193' '126' '74' '167' '69'\n",
      " '247' '69' '159' '168' '69' '192' '95' '60' '179' '205' '208' '188' '49'\n",
      " '168' '167' '185' '74' '97' '95' '95' '82' '69' '95' '169' '243' '247'\n",
      " '69' '69' '130']' has dtype incompatible with int64, please explicitly cast to a compatible dtype first.\n",
      "  df.loc[:, categorical] = df.loc[:, categorical].astype(str)\n",
      "/tmp/ipykernel_55158/4207740009.py:4: FutureWarning: Setting an item of incompatible dtype is deprecated and will raise in a future error of pandas. Value '['219' '78' '74' '92' '100' '116' '69' '129' '151' '248' '69' '75' '237'\n",
      " '265' '265' '168' '247' '121' '131' '122' '159' '130' '75' '170' '241'\n",
      " '69' '169' '42' '69' '42' '167' '75' '244' '254' '41' '75' '74' '168'\n",
      " '242' '237' '208' '98' '41' '265' '75' '20' '33' '51' '3' '20' '243'\n",
      " '137' '56' '78' '75' '216' '130' '75' '197' '78' '259' '264' '74' '237'\n",
      " '241' '159' '74' '42' '47' '121' '119' '49' '42' '247' '247' '191' '208'\n",
      " '169' '259' '159' '69' '41' '42' '42' '42' '240' '247' '152' '75' '244'\n",
      " '243' '42' '116' '197' '244' '130' '75' '159' '254' '235' '94' '94' '250'\n",
      " '20' '169' '174' '152' '159' '102' '95' '152' '20' '265' '119' '220' '78'\n",
      " '47' '18' '42' '59' '174' '42' '247' '81' '259' '260' '36' '25' '63' '7'\n",
      " '42' '121' '121' '82' '159' '264' '80' '69' '248' '182' '119' '41' '95'\n",
      " '169' '127' '235' '145' '95' '69' '131' '121' '166' '167' '97' '134'\n",
      " '116' '136' '135' '168' '141' '244' '244' '136' '238' '18' '69' '78'\n",
      " '166' '166' '136' '74' '42' '193' '39' '151' '234' '35' '132' '159' '237'\n",
      " '47' '80' '116' '17' '134' '135' '33' '208' '121' '248' '41' '85' '212'\n",
      " '212' '69' '235' '76' '231' '237' '166' '42' '152' '42' '131' '148' '226'\n",
      " '41' '244' '121' '95' '41' '82' '157' '229' '244' '92' '241' '241' '69'\n",
      " '196' '74' '83' '235' '75' '49' '69' '41' '216' '242' '126' '42' '74'\n",
      " '146' '126' '166' '39' '76' '75' '119' '119' '134' '18' '159' '82' '250'\n",
      " '75' '41' '94' '242' '254' '42' '24' '74' '218' '10' '168' '130' '147'\n",
      " '136' '74' '3' '212' '247' '94' '215' '159' '220' '248' '42' '247' '169'\n",
      " '167' '237' '10' '74' '243' '122' '208' '39' '197' '75' '168' '69' '119'\n",
      " '69' '41' '247' '74' '42' '237' '42' '185' '43' '161' '135' '132' '265'\n",
      " '75' '247' '256' '193' '179' '129' '55' '41' '169' '69' '18' '188' '188'\n",
      " '78' '237' '132' '215' '75' '42' '242' '131' '75' '180' '75' '116' '47'\n",
      " '80' '60' '240' '49' '75' '235' '250' '247' '230' '167' '254' '20' '18'\n",
      " '53' '168' '254' '94' '41' '69' '95' '47' '42' '116' '94' '259' '244'\n",
      " '235' '244' '236' '233' '20' '131' '121' '10' '42' '136' '130' '69' '119'\n",
      " '242' '69' '78' '75' '69' '258' '94' '69' '82' '247' '168' '42' '18'\n",
      " '136' '7' '82' '168' '42' '250' '132' '41' '41' '167' '75' '127' '134'\n",
      " '138' '75' '198' '7' '167' '75' '151' '160' '212' '151' '230' '119' '136'\n",
      " '119' '244' '260' '69' '242' '69' '244' '159' '37' '95' '247' '20' '151'\n",
      " '135' '173' '195' '130' '74' '32' '247' '41' '182' '75' '213' '121' '159'\n",
      " '247' '263' '208' '244' '74' '42' '69' '69' '42' '69' '78' '248' '243'\n",
      " '69' '241' '69' '126' '119' '116' '41' '228' '237' '247' '7' '72' '131'\n",
      " '121' '69' '159' '24' '69' '233' '69' '69' '135' '247' '135' '70' '237'\n",
      " '173' '119' '121' '121' '166' '167' '35' '33' '42' '177' '82' '215' '41'\n",
      " '47' '265' '237' '244' '244' '244' '75' '130' '145' '216' '168' '265'\n",
      " '223' '215' '247' '174' '198' '69' '69' '74' '235' '69' '129' '182' '128'\n",
      " '226' '265' '173' '41' '244' '74' '168' '69' '18' '42' '42' '159' '135'\n",
      " '56' '34' '244' '42' '102' '119' '69' '94' '106' '247' '129' '119' '174'\n",
      " '265' '140' '141' '185' '250' '97' '116' '28' '185' '203' '197' '168'\n",
      " '225' '179' '126' '20' '42' '247' '39' '69' '247' '136' '82' '260' '51'\n",
      " '119' '53' '75' '233' '129' '74' '174' '74' '185' '74' '75' '74' '95'\n",
      " '242' '42' '121' '41' '61' '134' '56' '95' '265' '166' '223' '126' '151'\n",
      " '41' '247' '69' '69' '69' '78' '18' '196' '121' '205' '179' '122' '188'\n",
      " '61' '97' '168' '152' '78' '42' '35' '95' '135' '129' '241' '28' '243'\n",
      " '235' '69' '78' '74' '78']' has dtype incompatible with int64, please explicitly cast to a compatible dtype first.\n",
      "  df.loc[:, categorical] = df.loc[:, categorical].astype(str)\n"
     ]
    }
   ],
   "source": [
    "categorical = ['PULocationID', 'DOLocationID']\n",
    "numerical = ['trip_distance']\n",
    "\n",
    "df.loc[:, categorical] = df.loc[:, categorical].astype(str)"
   ]
  },
  {
   "cell_type": "code",
   "execution_count": 14,
   "id": "9b7a0bb7-5c94-46ea-a970-e495adf93d92",
   "metadata": {},
   "outputs": [
    {
     "data": {
      "text/plain": [
       "VendorID                          int64\n",
       "lpep_pickup_datetime     datetime64[us]\n",
       "lpep_dropoff_datetime    datetime64[us]\n",
       "store_and_fwd_flag               object\n",
       "RatecodeID                      float64\n",
       "PULocationID                     object\n",
       "DOLocationID                     object\n",
       "passenger_count                 float64\n",
       "trip_distance                   float64\n",
       "fare_amount                     float64\n",
       "extra                           float64\n",
       "mta_tax                         float64\n",
       "tip_amount                      float64\n",
       "tolls_amount                    float64\n",
       "ehail_fee                        object\n",
       "improvement_surcharge           float64\n",
       "total_amount                    float64\n",
       "payment_type                    float64\n",
       "trip_type                       float64\n",
       "congestion_surcharge            float64\n",
       "duration                        float64\n",
       "dtype: object"
      ]
     },
     "execution_count": 14,
     "metadata": {},
     "output_type": "execute_result"
    }
   ],
   "source": [
    "df.dtypes"
   ]
  },
  {
   "cell_type": "code",
   "execution_count": 15,
   "id": "33e9730b-392b-48d8-8f74-0e51be3483b5",
   "metadata": {},
   "outputs": [
    {
     "data": {
      "text/plain": [
       "5.746304968778015"
      ]
     },
     "execution_count": 15,
     "metadata": {},
     "output_type": "execute_result"
    }
   ],
   "source": [
    "train_dicts = df[categorical + numerical].to_dict(orient='records')\n",
    "\n",
    "dv = DictVectorizer()\n",
    "X_train = dv.fit_transform(train_dicts)\n",
    "\n",
    "target = 'duration'\n",
    "y_train = df[target].values\n",
    "\n",
    "lr = LinearRegression()\n",
    "lr.fit(X_train, y_train)\n",
    "\n",
    "y_pred = lr.predict(X_train)\n",
    "\n",
    "root_mean_squared_error(y_train, y_pred)"
   ]
  },
  {
   "cell_type": "code",
   "execution_count": 16,
   "id": "4747cb50-36b9-4a18-ac37-bbce33b0ba64",
   "metadata": {},
   "outputs": [
    {
     "name": "stderr",
     "output_type": "stream",
     "text": [
      "/tmp/ipykernel_55158/3843849186.py:1: UserWarning: \n",
      "\n",
      "`distplot` is a deprecated function and will be removed in seaborn v0.14.0.\n",
      "\n",
      "Please adapt your code to use either `displot` (a figure-level function with\n",
      "similar flexibility) or `histplot` (an axes-level function for histograms).\n",
      "\n",
      "For a guide to updating your code to use the new functions, please see\n",
      "https://gist.github.com/mwaskom/de44147ed2974457ad6372750bbe5751\n",
      "\n",
      "  sns.distplot(y_pred,label='prediction')\n",
      "/tmp/ipykernel_55158/3843849186.py:2: UserWarning: \n",
      "\n",
      "`distplot` is a deprecated function and will be removed in seaborn v0.14.0.\n",
      "\n",
      "Please adapt your code to use either `displot` (a figure-level function with\n",
      "similar flexibility) or `histplot` (an axes-level function for histograms).\n",
      "\n",
      "For a guide to updating your code to use the new functions, please see\n",
      "https://gist.github.com/mwaskom/de44147ed2974457ad6372750bbe5751\n",
      "\n",
      "  sns.distplot(y_train,label='actual')\n"
     ]
    },
    {
     "data": {
      "text/plain": [
       "<matplotlib.legend.Legend at 0x717de655b8f0>"
      ]
     },
     "execution_count": 16,
     "metadata": {},
     "output_type": "execute_result"
    },
    {
     "data": {
      "image/png": "[encoded data removed]",
      "text/plain": [
       "<Figure size 640x480 with 1 Axes>"
      ]
     },
     "metadata": {},
     "output_type": "display_data"
    }
   ],
   "source": [
    "sns.distplot(y_pred,label='prediction')\n",
    "sns.distplot(y_train,label='actual')\n",
    "\n",
    "plt.legend()"
   ]
  },
  {
   "cell_type": "code",
   "execution_count": 17,
   "id": "6683bbb7-7cda-4905-984a-e2b83d472276",
   "metadata": {},
   "outputs": [],
   "source": [
    "def read_dataframe(filename):\n",
    "    if filename.endswith('.csv'):\n",
    "        df = pd.read_csv(filename)\n",
    "\n",
    "        df.lpep_dropoff_datetime = pd.to_datetime(df.lpep_dropoff_datetime)\n",
    "        df.lpep_pickup_datetime = pd.to_datetime(df.lpep_pickup_datetime)\n",
    "    elif filename.endswith('.parquet'):\n",
    "        df = pd.read_parquet(filename)\n",
    "\n",
    "    df['duration'] = df.lpep_dropoff_datetime - df.lpep_pickup_datetime\n",
    "    df.duration = df.duration.apply(lambda td: td.total_seconds() / 60)\n",
    "\n",
    "    df = df[(df.duration >= 1) & (df.duration <= 60)]\n",
    "\n",
    "    categorical = ['PULocationID', 'DOLocationID']\n",
    "    df[categorical] = df[categorical].astype(str)\n",
    "    \n",
    "    return df"
   ]
  },
  {
   "cell_type": "code",
   "execution_count": 18,
   "id": "d52f747e-dc47-4f89-b094-d39a1b70fc16",
   "metadata": {},
   "outputs": [],
   "source": [
    "df_train = read_dataframe('https://d37ci6vzurychx.cloudfront.net/trip-data/green_tripdata_2021-01.parquet')\n",
    "df_val = read_dataframe('https://d37ci6vzurychx.cloudfront.net/trip-data/green_tripdata_2021-02.parquet')"
   ]
  },
  {
   "cell_type": "code",
   "execution_count": 19,
   "id": "29f9bf9a-b81f-4db3-ab38-5f796d1283be",
   "metadata": {},
   "outputs": [
    {
     "data": {
      "text/plain": [
       "(73908, 61921)"
      ]
     },
     "execution_count": 19,
     "metadata": {},
     "output_type": "execute_result"
    }
   ],
   "source": [
    "len(df_train), len(df_val)"
   ]
  },
  {
   "cell_type": "code",
   "execution_count": 20,
   "id": "0b3127db-4590-4de3-9599-e4a7673e5742",
   "metadata": {},
   "outputs": [],
   "source": [
    "df_train['PU_DO'] = df_train['PULocationID'] + '_' + df_train['DOLocationID']\n",
    "df_val['PU_DO'] = df_val['PULocationID'] + '_' + df_val['DOLocationID']"
   ]
  },
  {
   "cell_type": "code",
   "execution_count": 21,
   "id": "d781b894-5e43-46d3-9ddf-5554f440ba66",
   "metadata": {},
   "outputs": [],
   "source": [
    "categorical = ['PU_DO'] #'PULocationID', 'DOLocationID']\n",
    "numerical = ['trip_distance']\n",
    "\n",
    "dv = DictVectorizer()\n",
    "\n",
    "train_dicts = df_train[categorical + numerical].to_dict(orient='records')\n",
    "X_train = dv.fit_transform(train_dicts)\n",
    "\n",
    "val_dicts = df_val[categorical + numerical].to_dict(orient='records')\n",
    "X_val = dv.transform(val_dicts)"
   ]
  },
  {
   "cell_type": "code",
   "execution_count": 22,
   "id": "04ca3828-2f1a-4437-aa07-2252877045d5",
   "metadata": {},
   "outputs": [],
   "source": [
    "target = 'duration'\n",
    "y_train = df_train[target].values\n",
    "y_val = df_val[target].values"
   ]
  },
  {
   "cell_type": "code",
   "execution_count": 23,
   "id": "f4ba8da5-8c2b-4c02-a5a0-03469d9fdb6c",
   "metadata": {},
   "outputs": [
    {
     "data": {
      "text/plain": [
       "7.758715209663881"
      ]
     },
     "execution_count": 23,
     "metadata": {},
     "output_type": "execute_result"
    }
   ],
   "source": [
    "lr = LinearRegression()\n",
    "lr.fit(X_train, y_train)\n",
    "\n",
    "y_pred = lr.predict(X_val)\n",
    "\n",
    "root_mean_squared_error(y_val, y_pred)"
   ]
  },
  {
   "cell_type": "code",
   "execution_count": null,
   "id": "7e54c644-8882-4d3d-9b83-34bbb9acccd6",
   "metadata": {},
   "outputs": [
    {
     "data": {
      "text/plain": [
       "7.616617761096093"
      ]
     },
     "execution_count": 24,
     "metadata": {},
     "output_type": "execute_result"
    }
   ],
   "source": [
    "lr = Lasso(0.0001)\n",
    "lr.fit(X_train, y_train)\n",
    "\n",
    "y_pred = lr.predict(X_val)\n",
    " \n",
    "root_mean_squared_error(y_val, y_pred)"
   ]
  },
  {
   "cell_type": "code",
   "execution_count": 25,
   "id": "b1f2fa3f-a3a6-4e4f-9f13-1f1e66df9789",
   "metadata": {},
   "outputs": [],
   "source": [
    "import pickle"
   ]
  },
  {
   "cell_type": "code",
   "execution_count": 26,
   "id": "f037d460-3dde-4b2c-b6cc-b41780b6bb9e",
   "metadata": {},
   "outputs": [],
   "source": [
    "with open('models/lin_reg.bin', 'wb') as f_out:\n",
    "    pickle.dump((dv, lr), f_out)"
   ]
  },
  {
   "cell_type": "code",
   "execution_count": 27,
   "id": "5e4b6b50-222c-45da-886e-3fee21a9fd43",
   "metadata": {},
   "outputs": [
    {
     "name": "stderr",
     "output_type": "stream",
     "text": [
      "2025/07/20 05:45:56 WARNING mlflow.models.model: `artifact_path` is deprecated. Please use `name` instead.\n",
      "\u001b[31m2025/07/20 05:46:00 WARNING mlflow.models.model: Model logged without a signature and input example. Please set `input_example` parameter when logging the model to auto infer the model signature.\u001b[0m\n",
      "2025/07/20 05:46:00 INFO mlflow.store.db.utils: Creating initial MLflow database tables...\n",
      "2025/07/20 05:46:00 INFO mlflow.store.db.utils: Updating database tables\n",
      "INFO  [alembic.runtime.migration] Context impl SQLiteImpl.\n",
      "INFO  [alembic.runtime.migration] Will assume non-transactional DDL.\n",
      "Registered model 'DurationPredictionModel' already exists. Creating a new version of this model...\n",
      "Created version '6' of model 'DurationPredictionModel'.\n"
     ]
    }
   ],
   "source": [
    "with mlflow.start_run():\n",
    "    mlflow.set_tag(\"developer\", \"ayush\")\n",
    "    mlflow.set_tag(\"model\", \"linear regression\")\n",
    "    \n",
    "    mlflow.log_param(\"train_data_path\", \"https://d37ci6vzurychx.cloudfront.net/trip-data/green_tripdata_2021-01.parquet\")\n",
    "    mlflow.log_param(\"val_data_path\", \"https://d37ci6vzurychx.cloudfront.net/trip-data/green_tripdata_2021-02.parquet\")\n",
    "    \n",
    "    mlflow.log_metric(\"rmse\", root_mean_squared_error(y_val, y_pred))\n",
    "    \n",
    "    mlflow.sklearn.log_model(lr, artifact_path=\"model\", registered_model_name=\"DurationPredictionModel\")\n",
    "\n",
    "    mlflow.log_artifact(\"models/lin_reg.bin\", artifact_path=\"model\")"
   ]
  },
  {
   "cell_type": "code",
   "execution_count": 29,
   "id": "e8a2b103",
   "metadata": {},
   "outputs": [],
   "source": [
    "with mlflow.start_run():\n",
    "    mlflow.set_tag(\"developer\", \"your_name\")\n",
    "    mlflow.set_tag(\"model\", \"linear_regression\")\n",
    "    \n",
    "    mlflow.log_param(\"train_data_path\", \"https://d37ci6vzurychx.cloudfront.net/trip-data/green_tripdata_2021-01.parquet\")\n",
    "    mlflow.log_param(\"val_data_path\", \"https://d37ci6vzurychx.cloudfront.net/trip-data/green_tripdata_2021-02.parquet\")\n",
    "    \n",
    "    mlflow.log_metric(\"rmse\", root_mean_squared_error(y_val, y_pred))\n",
    "    \n",
    "    alpha = 0.1\n",
    "    mlflow.log_param(\"alpha\", alpha)\n",
    "\n",
    "    lasso = Lasso(alpha=alpha)\n",
    "    lasso.fit(X_train, y_train)\n",
    "\n",
    "    y_pred = lasso.predict(X_val)\n",
    "\n",
    "    rmse = root_mean_squared_error(y_val, y_pred)\n",
    "    mlflow.log_metric(\"rmse\", rmse)"
   ]
  },
  {
   "cell_type": "code",
   "execution_count": 28,
   "id": "845c93c5",
   "metadata": {},
   "outputs": [
    {
     "name": "stdout",
     "output_type": "stream",
     "text": [
      "Requirement already satisfied: xgboost in /usr/local/python/3.12.1/lib/python3.12/site-packages (3.0.2)\n",
      "Requirement already satisfied: numpy in /home/codespace/.local/lib/python3.12/site-packages (from xgboost) (2.2.4)\n",
      "Requirement already satisfied: nvidia-nccl-cu12 in /usr/local/python/3.12.1/lib/python3.12/site-packages (from xgboost) (2.27.6)\n",
      "Requirement already satisfied: scipy in /home/codespace/.local/lib/python3.12/site-packages (from xgboost) (1.15.2)\n",
      "\n",
      "\u001b[1m[\u001b[0m\u001b[34;49mnotice\u001b[0m\u001b[1;39;49m]\u001b[0m\u001b[39;49m A new release of pip is available: \u001b[0m\u001b[31;49m25.0.1\u001b[0m\u001b[39;49m -> \u001b[0m\u001b[32;49m25.1.1\u001b[0m\n",
      "\u001b[1m[\u001b[0m\u001b[34;49mnotice\u001b[0m\u001b[1;39;49m]\u001b[0m\u001b[39;49m To update, run: \u001b[0m\u001b[32;49mpython3 -m pip install --upgrade pip\u001b[0m\n"
     ]
    }
   ],
   "source": [
    "!pip install xgboost"
   ]
  },
  {
   "cell_type": "code",
   "execution_count": 29,
   "id": "d8b0e269",
   "metadata": {},
   "outputs": [
    {
     "name": "stdout",
     "output_type": "stream",
     "text": [
      "Requirement already satisfied: hyperopt in /usr/local/python/3.12.1/lib/python3.12/site-packages (0.2.7)\n",
      "Requirement already satisfied: numpy in /home/codespace/.local/lib/python3.12/site-packages (from hyperopt) (2.2.4)\n",
      "Requirement already satisfied: scipy in /home/codespace/.local/lib/python3.12/site-packages (from hyperopt) (1.15.2)\n",
      "Requirement already satisfied: six in /home/codespace/.local/lib/python3.12/site-packages (from hyperopt) (1.17.0)\n",
      "Requirement already satisfied: networkx>=2.2 in /home/codespace/.local/lib/python3.12/site-packages (from hyperopt) (3.3)\n",
      "Requirement already satisfied: future in /usr/local/python/3.12.1/lib/python3.12/site-packages (from hyperopt) (1.0.0)\n",
      "Requirement already satisfied: tqdm in /usr/local/python/3.12.1/lib/python3.12/site-packages (from hyperopt) (4.67.1)\n",
      "Requirement already satisfied: cloudpickle in /usr/local/python/3.12.1/lib/python3.12/site-packages (from hyperopt) (3.1.1)\n",
      "Requirement already satisfied: py4j in /usr/local/python/3.12.1/lib/python3.12/site-packages (from hyperopt) (0.10.9.9)\n",
      "\n",
      "\u001b[1m[\u001b[0m\u001b[34;49mnotice\u001b[0m\u001b[1;39;49m]\u001b[0m\u001b[39;49m A new release of pip is available: \u001b[0m\u001b[31;49m25.0.1\u001b[0m\u001b[39;49m -> \u001b[0m\u001b[32;49m25.1.1\u001b[0m\n",
      "\u001b[1m[\u001b[0m\u001b[34;49mnotice\u001b[0m\u001b[1;39;49m]\u001b[0m\u001b[39;49m To update, run: \u001b[0m\u001b[32;49mpython3 -m pip install --upgrade pip\u001b[0m\n"
     ]
    }
   ],
   "source": [
    "!pip install hyperopt"
   ]
  },
  {
   "cell_type": "code",
   "execution_count": 30,
   "id": "9f638db6",
   "metadata": {},
   "outputs": [],
   "source": [
    "import xgboost as xgb\n",
    "\n",
    "from hyperopt import fmin, tpe, hp, STATUS_OK, Trials\n",
    "from hyperopt.pyll import scope\n",
    "\n",
    "train = xgb.DMatrix(X_train, label=y_train)\n",
    "valid = xgb.DMatrix(X_val, label=y_val)\n",
    "\n",
    "\n",
    "def objective(params):\n",
    "    with mlflow.start_run():\n",
    "        mlflow.set_tag(\"model\", \"xgboost\")\n",
    "        mlflow.log_params(params)\n",
    "        booster = xgb.train(\n",
    "            params=params,\n",
    "            dtrain=train,\n",
    "            num_boost_round=10,\n",
    "            evals=[(valid, \"validation\")],\n",
    "            early_stopping_rounds=50\n",
    "        )\n",
    "\n",
    "        y_pred = booster.predict(valid)\n",
    "        rmse_value = root_mean_squared_error(y_val, y_pred)\n",
    "        mlflow.log_metric(\"rmse\", rmse_value)\n",
    "\n",
    "        return {'loss': rmse_value, 'status': STATUS_OK}"
   ]
  },
  {
   "cell_type": "code",
   "execution_count": 35,
   "id": "1feca969",
   "metadata": {},
   "outputs": [
    {
     "name": "stdout",
     "output_type": "stream",
     "text": [
      "  0%|          | 0/50 [00:00<?, ?trial/s, best loss=?]"
     ]
    },
    {
     "name": "stderr",
     "output_type": "stream",
     "text": [
      "/usr/local/python/3.12.1/lib/python3.12/site-packages/xgboost/callback.py:386: UserWarning: [05:10:36] WARNING: /workspace/src/objective/regression_obj.cu:250: reg:linear is now deprecated in favor of reg:squarederror.\n",
      "  self.starting_round = model.num_boosted_rounds()\n",
      "\n"
     ]
    },
    {
     "name": "stdout",
     "output_type": "stream",
     "text": [
      "[0]\tvalidation-rmse:9.51723                           \n",
      "[1]\tvalidation-rmse:8.09730                           \n",
      "[2]\tvalidation-rmse:7.39259                           \n",
      "[3]\tvalidation-rmse:7.04760                           \n",
      "[4]\tvalidation-rmse:6.87911                           \n",
      "[5]\tvalidation-rmse:6.78544                           \n",
      "[6]\tvalidation-rmse:6.73393                           \n",
      "[7]\tvalidation-rmse:6.70459                           \n",
      "[8]\tvalidation-rmse:6.68203                           \n",
      "[9]\tvalidation-rmse:6.66558                           \n",
      "  2%|▏         | 1/50 [00:06<05:30,  6.75s/trial, best loss: 6.665578243875738]"
     ]
    },
    {
     "name": "stderr",
     "output_type": "stream",
     "text": [
      "/usr/local/python/3.12.1/lib/python3.12/site-packages/xgboost/callback.py:386: UserWarning: [05:10:43] WARNING: /workspace/src/objective/regression_obj.cu:250: reg:linear is now deprecated in favor of reg:squarederror.\n",
      "  self.starting_round = model.num_boosted_rounds()\n",
      "\n"
     ]
    },
    {
     "name": "stdout",
     "output_type": "stream",
     "text": [
      "[0]\tvalidation-rmse:9.88936                                                    \n",
      "[1]\tvalidation-rmse:8.50228                                                    \n",
      "[2]\tvalidation-rmse:7.70947                                                    \n",
      "[3]\tvalidation-rmse:7.26767                                                    \n",
      "[4]\tvalidation-rmse:7.02178                                                    \n",
      "[5]\tvalidation-rmse:6.88482                                                    \n",
      "[6]\tvalidation-rmse:6.79633                                                    \n",
      "[7]\tvalidation-rmse:6.74477                                                    \n",
      "[8]\tvalidation-rmse:6.70941                                                    \n",
      "[9]\tvalidation-rmse:6.68658                                                    \n",
      "  4%|▍         | 2/50 [00:15<06:34,  8.22s/trial, best loss: 6.665578243875738]"
     ]
    },
    {
     "name": "stderr",
     "output_type": "stream",
     "text": [
      "/usr/local/python/3.12.1/lib/python3.12/site-packages/xgboost/callback.py:386: UserWarning: [05:10:52] WARNING: /workspace/src/objective/regression_obj.cu:250: reg:linear is now deprecated in favor of reg:squarederror.\n",
      "  self.starting_round = model.num_boosted_rounds()\n",
      "\n"
     ]
    },
    {
     "name": "stdout",
     "output_type": "stream",
     "text": [
      "[0]\tvalidation-rmse:7.81836                                                    \n",
      "[1]\tvalidation-rmse:6.82327                                                    \n",
      "[2]\tvalidation-rmse:6.59211                                                    \n",
      "[3]\tvalidation-rmse:6.52740                                                    \n",
      "[4]\tvalidation-rmse:6.49712                                                    \n",
      "[5]\tvalidation-rmse:6.48851                                                    \n",
      "[6]\tvalidation-rmse:6.48218                                                    \n",
      "[7]\tvalidation-rmse:6.47627                                                    \n",
      "[8]\tvalidation-rmse:6.46702                                                    \n",
      "[9]\tvalidation-rmse:6.46031                                                    \n",
      "  6%|▌         | 3/50 [00:26<07:10,  9.15s/trial, best loss: 6.460306620093477]"
     ]
    },
    {
     "name": "stderr",
     "output_type": "stream",
     "text": [
      "/usr/local/python/3.12.1/lib/python3.12/site-packages/xgboost/callback.py:386: UserWarning: [05:11:02] WARNING: /workspace/src/objective/regression_obj.cu:250: reg:linear is now deprecated in favor of reg:squarederror.\n",
      "  self.starting_round = model.num_boosted_rounds()\n",
      "\n"
     ]
    },
    {
     "name": "stdout",
     "output_type": "stream",
     "text": [
      "[0]\tvalidation-rmse:10.18270                                                   \n",
      "[1]\tvalidation-rmse:8.86374                                                    \n",
      "[2]\tvalidation-rmse:8.03345                                                    \n",
      "[3]\tvalidation-rmse:7.52286                                                    \n",
      "[4]\tvalidation-rmse:7.21150                                                    \n",
      "[5]\tvalidation-rmse:7.02326                                                    \n",
      "[6]\tvalidation-rmse:6.90730                                                    \n",
      "[7]\tvalidation-rmse:6.82907                                                    \n",
      "[8]\tvalidation-rmse:6.78035                                                    \n",
      "[9]\tvalidation-rmse:6.74379                                                    \n",
      "  8%|▊         | 4/50 [00:32<06:10,  8.06s/trial, best loss: 6.460306620093477]"
     ]
    },
    {
     "name": "stderr",
     "output_type": "stream",
     "text": [
      "/usr/local/python/3.12.1/lib/python3.12/site-packages/xgboost/callback.py:386: UserWarning: [05:11:09] WARNING: /workspace/src/objective/regression_obj.cu:250: reg:linear is now deprecated in favor of reg:squarederror.\n",
      "  self.starting_round = model.num_boosted_rounds()\n",
      "\n"
     ]
    },
    {
     "name": "stdout",
     "output_type": "stream",
     "text": [
      "[0]\tvalidation-rmse:11.02864                                                   \n",
      "[1]\tvalidation-rmse:10.07851                                                   \n",
      "[2]\tvalidation-rmse:9.32324                                                    \n",
      "[3]\tvalidation-rmse:8.72907                                                    \n",
      "[4]\tvalidation-rmse:8.26631                                                    \n",
      "[5]\tvalidation-rmse:7.90743                                                    \n",
      "[6]\tvalidation-rmse:7.63060                                                    \n",
      "[7]\tvalidation-rmse:7.41832                                                    \n",
      "[8]\tvalidation-rmse:7.25522                                                    \n",
      "[9]\tvalidation-rmse:7.13086                                                    \n",
      "[0]\tvalidation-rmse:11.25705                                                   \n",
      "[1]\tvalidation-rmse:10.45751                                                   \n",
      " 10%|█         | 5/50 [00:39<05:46,  7.69s/trial, best loss: 6.460306620093477]"
     ]
    },
    {
     "name": "stderr",
     "output_type": "stream",
     "text": [
      "/usr/local/python/3.12.1/lib/python3.12/site-packages/xgboost/callback.py:386: UserWarning: [05:11:16] WARNING: /workspace/src/objective/regression_obj.cu:250: reg:linear is now deprecated in favor of reg:squarederror.\n",
      "  self.starting_round = model.num_boosted_rounds()\n",
      "\n"
     ]
    },
    {
     "name": "stdout",
     "output_type": "stream",
     "text": [
      "[2]\tvalidation-rmse:9.79052                                                    \n",
      "[3]\tvalidation-rmse:9.24004                                                    \n",
      "[4]\tvalidation-rmse:8.78757                                                    \n",
      "[5]\tvalidation-rmse:8.41892                                                    \n",
      "[6]\tvalidation-rmse:8.11812                                                    \n",
      "[7]\tvalidation-rmse:7.87291                                                    \n",
      "[8]\tvalidation-rmse:7.67614                                                    \n",
      "[9]\tvalidation-rmse:7.51845                                                    \n",
      " 12%|█▏        | 6/50 [00:40<03:58,  5.42s/trial, best loss: 6.460306620093477]"
     ]
    },
    {
     "name": "stderr",
     "output_type": "stream",
     "text": [
      "/usr/local/python/3.12.1/lib/python3.12/site-packages/xgboost/callback.py:386: UserWarning: [05:11:17] WARNING: /workspace/src/objective/regression_obj.cu:250: reg:linear is now deprecated in favor of reg:squarederror.\n",
      "  self.starting_round = model.num_boosted_rounds()\n",
      "\n"
     ]
    },
    {
     "name": "stdout",
     "output_type": "stream",
     "text": [
      "[0]\tvalidation-rmse:11.71937                                                   \n",
      "[1]\tvalidation-rmse:11.26425                                                   \n",
      "[2]\tvalidation-rmse:10.84502                                                   \n",
      "[3]\tvalidation-rmse:10.45964                                                   \n",
      "[4]\tvalidation-rmse:10.10608                                                   \n",
      "[5]\tvalidation-rmse:9.78194                                                    \n",
      "[6]\tvalidation-rmse:9.48547                                                    \n",
      "[7]\tvalidation-rmse:9.21453                                                    \n",
      "[8]\tvalidation-rmse:8.96698                                                    \n",
      "[9]\tvalidation-rmse:8.74156                                                    \n",
      " 14%|█▍        | 7/50 [00:56<06:24,  8.94s/trial, best loss: 6.460306620093477]"
     ]
    },
    {
     "name": "stderr",
     "output_type": "stream",
     "text": [
      "/usr/local/python/3.12.1/lib/python3.12/site-packages/xgboost/callback.py:386: UserWarning: [05:11:33] WARNING: /workspace/src/objective/regression_obj.cu:250: reg:linear is now deprecated in favor of reg:squarederror.\n",
      "  self.starting_round = model.num_boosted_rounds()\n",
      "\n"
     ]
    },
    {
     "name": "stdout",
     "output_type": "stream",
     "text": [
      "[0]\tvalidation-rmse:10.35328                                                   \n",
      "[1]\tvalidation-rmse:9.07946                                                    \n",
      "[2]\tvalidation-rmse:8.22335                                                    \n",
      "[3]\tvalidation-rmse:7.66871                                                    \n",
      "[4]\tvalidation-rmse:7.30650                                                    \n",
      "[5]\tvalidation-rmse:7.07258                                                    \n",
      "[6]\tvalidation-rmse:6.92171                                                    \n",
      "[7]\tvalidation-rmse:6.82514                                                    \n",
      "[8]\tvalidation-rmse:6.75816                                                    \n",
      "[9]\tvalidation-rmse:6.71203                                                    \n",
      " 16%|█▌        | 8/50 [01:01<05:12,  7.44s/trial, best loss: 6.460306620093477]"
     ]
    },
    {
     "name": "stderr",
     "output_type": "stream",
     "text": [
      "/usr/local/python/3.12.1/lib/python3.12/site-packages/xgboost/callback.py:386: UserWarning: [05:11:37] WARNING: /workspace/src/objective/regression_obj.cu:250: reg:linear is now deprecated in favor of reg:squarederror.\n",
      "  self.starting_round = model.num_boosted_rounds()\n",
      "\n"
     ]
    },
    {
     "name": "stdout",
     "output_type": "stream",
     "text": [
      "[0]\tvalidation-rmse:10.57967                                                   \n",
      "[1]\tvalidation-rmse:9.39043                                                    \n",
      "[2]\tvalidation-rmse:8.54039                                                    \n",
      "[3]\tvalidation-rmse:7.94402                                                    \n",
      "[4]\tvalidation-rmse:7.53179                                                    \n",
      "[5]\tvalidation-rmse:7.24673                                                    \n",
      "[6]\tvalidation-rmse:7.04990                                                    \n",
      "[7]\tvalidation-rmse:6.91425                                                    \n",
      "[8]\tvalidation-rmse:6.81842                                                    \n",
      "[9]\tvalidation-rmse:6.75253                                                    \n",
      " 18%|█▊        | 9/50 [01:16<06:50, 10.02s/trial, best loss: 6.460306620093477]"
     ]
    },
    {
     "name": "stderr",
     "output_type": "stream",
     "text": [
      "/usr/local/python/3.12.1/lib/python3.12/site-packages/xgboost/callback.py:386: UserWarning: [05:11:53] WARNING: /workspace/src/objective/regression_obj.cu:250: reg:linear is now deprecated in favor of reg:squarederror.\n",
      "  self.starting_round = model.num_boosted_rounds()\n",
      "\n"
     ]
    },
    {
     "name": "stdout",
     "output_type": "stream",
     "text": [
      "[0]\tvalidation-rmse:9.77853                                                    \n",
      "[1]\tvalidation-rmse:8.36992                                                    \n",
      "[2]\tvalidation-rmse:7.59323                                                    \n",
      "[3]\tvalidation-rmse:7.17593                                                    \n",
      "[4]\tvalidation-rmse:6.94794                                                    \n",
      "[5]\tvalidation-rmse:6.82018                                                    \n",
      "[6]\tvalidation-rmse:6.74261                                                    \n",
      "[7]\tvalidation-rmse:6.69971                                                    \n",
      "[8]\tvalidation-rmse:6.67020                                                    \n",
      "[9]\tvalidation-rmse:6.65002                                                    \n",
      " 20%|██        | 10/50 [01:24<06:09,  9.24s/trial, best loss: 6.460306620093477]"
     ]
    },
    {
     "name": "stderr",
     "output_type": "stream",
     "text": [
      "/usr/local/python/3.12.1/lib/python3.12/site-packages/xgboost/callback.py:386: UserWarning: [05:12:00] WARNING: /workspace/src/objective/regression_obj.cu:250: reg:linear is now deprecated in favor of reg:squarederror.\n",
      "  self.starting_round = model.num_boosted_rounds()\n",
      "\n"
     ]
    },
    {
     "name": "stdout",
     "output_type": "stream",
     "text": [
      "[0]\tvalidation-rmse:6.67989                                                     \n",
      "[1]\tvalidation-rmse:6.64400                                                     \n",
      "[2]\tvalidation-rmse:6.62744                                                     \n",
      "[3]\tvalidation-rmse:6.61812                                                     \n",
      "[4]\tvalidation-rmse:6.61306                                                     \n",
      "[5]\tvalidation-rmse:6.60448                                                     \n",
      "[6]\tvalidation-rmse:6.59839                                                     \n",
      "[7]\tvalidation-rmse:6.59121                                                     \n",
      "[8]\tvalidation-rmse:6.57981                                                     \n",
      "[9]\tvalidation-rmse:6.57115                                                     \n",
      "[0]\tvalidation-rmse:10.98573                                                    \n",
      "[1]\tvalidation-rmse:10.01411                                                    \n",
      " 22%|██▏       | 11/50 [01:26<04:39,  7.17s/trial, best loss: 6.460306620093477]"
     ]
    },
    {
     "name": "stderr",
     "output_type": "stream",
     "text": [
      "/usr/local/python/3.12.1/lib/python3.12/site-packages/xgboost/callback.py:386: UserWarning: [05:12:03] WARNING: /workspace/src/objective/regression_obj.cu:250: reg:linear is now deprecated in favor of reg:squarederror.\n",
      "  self.starting_round = model.num_boosted_rounds()\n",
      "\n"
     ]
    },
    {
     "name": "stdout",
     "output_type": "stream",
     "text": [
      "[2]\tvalidation-rmse:9.25525                                                     \n",
      "[3]\tvalidation-rmse:8.66708                                                     \n",
      "[4]\tvalidation-rmse:8.21630                                                     \n",
      "[5]\tvalidation-rmse:7.87382                                                     \n",
      "[6]\tvalidation-rmse:7.61497                                                     \n",
      "[7]\tvalidation-rmse:7.41697                                                     \n",
      "[8]\tvalidation-rmse:7.26945                                                     \n",
      "[9]\tvalidation-rmse:7.15790                                                     \n",
      " 24%|██▍       | 12/50 [01:27<03:22,  5.32s/trial, best loss: 6.460306620093477]"
     ]
    },
    {
     "name": "stderr",
     "output_type": "stream",
     "text": [
      "/usr/local/python/3.12.1/lib/python3.12/site-packages/xgboost/callback.py:386: UserWarning: [05:12:04] WARNING: /workspace/src/objective/regression_obj.cu:250: reg:linear is now deprecated in favor of reg:squarederror.\n",
      "  self.starting_round = model.num_boosted_rounds()\n",
      "\n"
     ]
    },
    {
     "name": "stdout",
     "output_type": "stream",
     "text": [
      "[0]\tvalidation-rmse:10.70302                                                    \n",
      "[1]\tvalidation-rmse:9.57784                                                     \n",
      "[2]\tvalidation-rmse:8.74246                                                     \n",
      "[3]\tvalidation-rmse:8.13937                                                     \n",
      "[4]\tvalidation-rmse:7.69581                                                     \n",
      "[5]\tvalidation-rmse:7.38650                                                     \n",
      "[6]\tvalidation-rmse:7.15954                                                     \n",
      "[7]\tvalidation-rmse:6.99269                                                     \n",
      "[8]\tvalidation-rmse:6.87816                                                     \n",
      "[9]\tvalidation-rmse:6.79400                                                     \n",
      " 26%|██▌       | 13/50 [02:05<09:14, 14.99s/trial, best loss: 6.460306620093477]"
     ]
    },
    {
     "name": "stderr",
     "output_type": "stream",
     "text": [
      "/usr/local/python/3.12.1/lib/python3.12/site-packages/xgboost/callback.py:386: UserWarning: [05:12:41] WARNING: /workspace/src/objective/regression_obj.cu:250: reg:linear is now deprecated in favor of reg:squarederror.\n",
      "  self.starting_round = model.num_boosted_rounds()\n",
      "\n"
     ]
    },
    {
     "name": "stdout",
     "output_type": "stream",
     "text": [
      "[0]\tvalidation-rmse:11.76666                                                    \n",
      "[1]\tvalidation-rmse:11.35268                                                    \n",
      "[2]\tvalidation-rmse:10.96942                                                    \n",
      "[3]\tvalidation-rmse:10.61505                                                    \n",
      "[4]\tvalidation-rmse:10.28776                                                    \n",
      "[5]\tvalidation-rmse:9.98592                                                     \n",
      "[6]\tvalidation-rmse:9.70771                                                     \n",
      "[7]\tvalidation-rmse:9.45173                                                     \n",
      "[8]\tvalidation-rmse:9.21655                                                     \n",
      "[9]\tvalidation-rmse:9.00079                                                     \n",
      " 28%|██▊       | 14/50 [02:09<07:05, 11.81s/trial, best loss: 6.460306620093477]"
     ]
    },
    {
     "name": "stderr",
     "output_type": "stream",
     "text": [
      "/usr/local/python/3.12.1/lib/python3.12/site-packages/xgboost/callback.py:386: UserWarning: [05:12:46] WARNING: /workspace/src/objective/regression_obj.cu:250: reg:linear is now deprecated in favor of reg:squarederror.\n",
      "  self.starting_round = model.num_boosted_rounds()\n",
      "\n"
     ]
    },
    {
     "name": "stdout",
     "output_type": "stream",
     "text": [
      "[0]\tvalidation-rmse:9.47330                                                     \n",
      "[1]\tvalidation-rmse:8.04971                                                     \n",
      "[2]\tvalidation-rmse:7.35212                                                     \n",
      "[3]\tvalidation-rmse:7.01602                                                     \n",
      "[4]\tvalidation-rmse:6.85416                                                     \n",
      "[5]\tvalidation-rmse:6.76273                                                     \n",
      "[6]\tvalidation-rmse:6.70855                                                     \n",
      "[7]\tvalidation-rmse:6.67637                                                     \n",
      "[8]\tvalidation-rmse:6.65675                                                     \n",
      "[9]\tvalidation-rmse:6.64294                                                     \n",
      " 30%|███       | 15/50 [02:14<05:45,  9.87s/trial, best loss: 6.460306620093477]"
     ]
    },
    {
     "name": "stderr",
     "output_type": "stream",
     "text": [
      "/usr/local/python/3.12.1/lib/python3.12/site-packages/xgboost/callback.py:386: UserWarning: [05:12:51] WARNING: /workspace/src/objective/regression_obj.cu:250: reg:linear is now deprecated in favor of reg:squarederror.\n",
      "  self.starting_round = model.num_boosted_rounds()\n",
      "\n"
     ]
    },
    {
     "name": "stdout",
     "output_type": "stream",
     "text": [
      "[0]\tvalidation-rmse:10.30768                                                    \n",
      "[1]\tvalidation-rmse:9.02431                                                     \n",
      "[2]\tvalidation-rmse:8.18056                                                     \n",
      "[3]\tvalidation-rmse:7.64121                                                     \n",
      "[4]\tvalidation-rmse:7.29534                                                     \n",
      "[5]\tvalidation-rmse:7.08043                                                     \n",
      "[6]\tvalidation-rmse:6.93987                                                     \n",
      "[7]\tvalidation-rmse:6.85135                                                     \n",
      "[8]\tvalidation-rmse:6.78984                                                     \n",
      "[9]\tvalidation-rmse:6.74911                                                     \n",
      " 32%|███▏      | 16/50 [02:19<04:41,  8.28s/trial, best loss: 6.460306620093477]"
     ]
    },
    {
     "name": "stderr",
     "output_type": "stream",
     "text": [
      "/usr/local/python/3.12.1/lib/python3.12/site-packages/xgboost/callback.py:386: UserWarning: [05:12:55] WARNING: /workspace/src/objective/regression_obj.cu:250: reg:linear is now deprecated in favor of reg:squarederror.\n",
      "  self.starting_round = model.num_boosted_rounds()\n",
      "\n"
     ]
    },
    {
     "name": "stdout",
     "output_type": "stream",
     "text": [
      "[0]\tvalidation-rmse:10.55524                                                    \n",
      "[1]\tvalidation-rmse:9.34531                                                     \n",
      "[2]\tvalidation-rmse:8.47875                                                     \n",
      "[3]\tvalidation-rmse:7.86475                                                     \n",
      "[4]\tvalidation-rmse:7.43722                                                     \n",
      "[5]\tvalidation-rmse:7.14591                                                     \n",
      "[6]\tvalidation-rmse:6.94433                                                     \n",
      "[7]\tvalidation-rmse:6.80488                                                     \n",
      "[8]\tvalidation-rmse:6.70339                                                     \n",
      "[9]\tvalidation-rmse:6.63329                                                     \n",
      "[0]\tvalidation-rmse:10.97680                                                    \n",
      "[1]\tvalidation-rmse:9.99935                                                     \n",
      " 34%|███▍      | 17/50 [02:49<08:06, 14.73s/trial, best loss: 6.460306620093477]"
     ]
    },
    {
     "name": "stderr",
     "output_type": "stream",
     "text": [
      "/usr/local/python/3.12.1/lib/python3.12/site-packages/xgboost/callback.py:386: UserWarning: [05:13:25] WARNING: /workspace/src/objective/regression_obj.cu:250: reg:linear is now deprecated in favor of reg:squarederror.\n",
      "  self.starting_round = model.num_boosted_rounds()\n",
      "\n"
     ]
    },
    {
     "name": "stdout",
     "output_type": "stream",
     "text": [
      "[2]\tvalidation-rmse:9.23696                                                     \n",
      "[3]\tvalidation-rmse:8.64812                                                     \n",
      "[4]\tvalidation-rmse:8.19862                                                     \n",
      "[5]\tvalidation-rmse:7.85703                                                     \n",
      "[6]\tvalidation-rmse:7.59915                                                     \n",
      "[7]\tvalidation-rmse:7.40423                                                     \n",
      "[8]\tvalidation-rmse:7.25885                                                     \n",
      "[9]\tvalidation-rmse:7.14780                                                     \n",
      " 36%|███▌      | 18/50 [02:50<05:40, 10.65s/trial, best loss: 6.460306620093477]"
     ]
    },
    {
     "name": "stderr",
     "output_type": "stream",
     "text": [
      "/usr/local/python/3.12.1/lib/python3.12/site-packages/xgboost/callback.py:386: UserWarning: [05:13:26] WARNING: /workspace/src/objective/regression_obj.cu:250: reg:linear is now deprecated in favor of reg:squarederror.\n",
      "  self.starting_round = model.num_boosted_rounds()\n",
      "\n"
     ]
    },
    {
     "name": "stdout",
     "output_type": "stream",
     "text": [
      "[0]\tvalidation-rmse:6.92612                                                     \n",
      "[1]\tvalidation-rmse:6.71924                                                     \n",
      "[2]\tvalidation-rmse:6.69939                                                     \n",
      "[3]\tvalidation-rmse:6.68708                                                     \n",
      "[4]\tvalidation-rmse:6.67714                                                     \n",
      "[5]\tvalidation-rmse:6.67670                                                     \n",
      "[6]\tvalidation-rmse:6.67565                                                     \n",
      "[7]\tvalidation-rmse:6.67166                                                     \n",
      "[8]\tvalidation-rmse:6.65977                                                     \n",
      "[9]\tvalidation-rmse:6.65522                                                     \n",
      " 38%|███▊      | 19/50 [02:52<04:09,  8.05s/trial, best loss: 6.460306620093477]"
     ]
    },
    {
     "name": "stderr",
     "output_type": "stream",
     "text": [
      "/usr/local/python/3.12.1/lib/python3.12/site-packages/xgboost/callback.py:386: UserWarning: [05:13:28] WARNING: /workspace/src/objective/regression_obj.cu:250: reg:linear is now deprecated in favor of reg:squarederror.\n",
      "  self.starting_round = model.num_boosted_rounds()\n",
      "\n"
     ]
    },
    {
     "name": "stdout",
     "output_type": "stream",
     "text": [
      "[0]\tvalidation-rmse:10.01212                                                    \n",
      "[1]\tvalidation-rmse:8.61593                                                     \n",
      "[2]\tvalidation-rmse:7.75601                                                     \n",
      "[3]\tvalidation-rmse:7.24379                                                     \n",
      "[4]\tvalidation-rmse:6.93790                                                     \n",
      "[5]\tvalidation-rmse:6.75727                                                     \n",
      "[6]\tvalidation-rmse:6.64756                                                     \n",
      "[7]\tvalidation-rmse:6.57598                                                     \n",
      "[8]\tvalidation-rmse:6.52894                                                     \n",
      "[9]\tvalidation-rmse:6.49664                                                     \n",
      " 40%|████      | 20/50 [03:20<06:59, 13.99s/trial, best loss: 6.460306620093477]"
     ]
    },
    {
     "name": "stderr",
     "output_type": "stream",
     "text": [
      "/usr/local/python/3.12.1/lib/python3.12/site-packages/xgboost/callback.py:386: UserWarning: [05:13:56] WARNING: /workspace/src/objective/regression_obj.cu:250: reg:linear is now deprecated in favor of reg:squarederror.\n",
      "  self.starting_round = model.num_boosted_rounds()\n",
      "\n"
     ]
    },
    {
     "ename": "",
     "evalue": "",
     "output_type": "error",
     "traceback": [
      "\u001b[1;31mThe Kernel crashed while executing code in the current cell or a previous cell. \n",
      "\u001b[1;31mPlease review the code in the cell(s) to identify a possible cause of the failure. \n",
      "\u001b[1;31mClick <a href='https://aka.ms/vscodeJupyterKernelCrash'>here</a> for more info. \n",
      "\u001b[1;31mView Jupyter <a href='command:jupyter.viewOutput'>log</a> for further details."
     ]
    }
   ],
   "source": [
    "search_space = {\n",
    "    'max_depth': scope.int(hp.quniform('max_depth', 4, 100, 1)),\n",
    "    'learning_rate': hp.loguniform('learning_rate', -3, 0),\n",
    "    'reg_alpha': hp.loguniform('reg_alpha', -5, -1),\n",
    "    'reg_lambda': hp.loguniform('reg_lambda', -6, -1),\n",
    "    'min_child_weight': hp.loguniform('min_child_weight', -1, 3),\n",
    "    'objective': 'reg:linear',\n",
    "    'seed': 42,\n",
    "}\n",
    "\n",
    "best_result = fmin(\n",
    "    fn=objective,\n",
    "    space=search_space,\n",
    "    algo=tpe.suggest,\n",
    "    max_evals=50,\n",
    "    trials=Trials()\n",
    ")"
   ]
  },
  {
   "cell_type": "code",
   "execution_count": null,
   "id": "1c13312d",
   "metadata": {},
   "outputs": [
    {
     "ename": "",
     "evalue": "",
     "output_type": "error",
     "traceback": [
      "\u001b[1;31mThe Kernel crashed while executing code in the current cell or a previous cell. \n",
      "\u001b[1;31mPlease review the code in the cell(s) to identify a possible cause of the failure. \n",
      "\u001b[1;31mClick <a href='https://aka.ms/vscodeJupyterKernelCrash'>here</a> for more info. \n",
      "\u001b[1;31mView Jupyter <a href='command:jupyter.viewOutput'>log</a> for further details."
     ]
    }
   ],
   "source": [
    "params = {\n",
    "    'learning_rate': 0.6240816486229196,\n",
    "    'max_depth': 55,\n",
    "    'min_child_weight': 1.192214620481515,\n",
    "    'reg_alpha': 0.016597419370730778,\n",
    "    'reg_lambda': 0.0072444028346028855,\n",
    "    'seed': 42,\n",
    "    'objective': 'reg:linear'\n",
    "}"
   ]
  },
  {
   "cell_type": "code",
   "execution_count": null,
   "id": "1b61e138",
   "metadata": {},
   "outputs": [
    {
     "name": "stderr",
     "output_type": "stream",
     "text": [
      "2025/07/20 05:33:51 INFO mlflow.utils.autologging_utils: Created MLflow autologging run with ID '71b909e5f9d64dfeaa54c4df265669e4', which will track hyperparameters, performance metrics, model artifacts, and lineage information for the current xgboost workflow\n"
     ]
    }
   ],
   "source": [
    "# import mlflow.xgboost\n",
    "\n",
    "\n",
    "mlflow.xgboost.autolog()\n",
    "\n",
    "booster = xgb.train(\n",
    "            params=params,\n",
    "            dtrain=train,\n",
    "            num_boost_round=10,\n",
    "            evals=[(valid, \"validation\")],\n",
    "            early_stopping_rounds=20)"
   ]
  },
  {
   "cell_type": "code",
   "execution_count": null,
   "id": "17e62ca9",
   "metadata": {},
   "outputs": [],
   "source": []
  },
  {
   "cell_type": "code",
   "execution_count": null,
   "id": "ec7c9f09",
   "metadata": {},
   "outputs": [
    {
     "name": "stderr",
     "output_type": "stream",
     "text": [
      "/usr/local/python/3.12.1/lib/python3.12/site-packages/xgboost/callback.py:386: UserWarning: [06:13:02] WARNING: /workspace/src/objective/regression_obj.cu:250: reg:linear is now deprecated in favor of reg:squarederror.\n",
      "  self.starting_round = model.num_boosted_rounds()\n"
     ]
    },
    {
     "name": "stdout",
     "output_type": "stream",
     "text": [
      "[0]\tvalidation-rmse:7.81836\n",
      "[1]\tvalidation-rmse:6.82327\n",
      "[2]\tvalidation-rmse:6.59211\n",
      "[3]\tvalidation-rmse:6.52740\n",
      "[4]\tvalidation-rmse:6.49712\n",
      "[5]\tvalidation-rmse:6.48851\n",
      "[6]\tvalidation-rmse:6.48218\n",
      "[7]\tvalidation-rmse:6.47627\n",
      "[8]\tvalidation-rmse:6.46702\n",
      "[9]\tvalidation-rmse:6.46031\n"
     ]
    },
    {
     "name": "stderr",
     "output_type": "stream",
     "text": [
      "2025/07/20 06:13:12 WARNING mlflow.models.model: `artifact_path` is deprecated. Please use `name` instead.\n",
      "/usr/local/python/3.12.1/lib/python3.12/site-packages/mlflow/xgboost/__init__.py:168: UserWarning: [06:13:12] WARNING: /workspace/src/c_api/c_api.cc:1427: Saving model in the UBJSON format as default.  You can use file extension: `json`, `ubj` or `deprecated` to choose between formats.\n",
      "  xgb_model.save_model(model_data_path)\n",
      "\u001b[31m2025/07/20 06:13:16 WARNING mlflow.models.model: Model logged without a signature and input example. Please set `input_example` parameter when logging the model to auto infer the model signature.\u001b[0m\n"
     ]
    }
   ],
   "source": [
    "import mlflow.sklearn\n",
    "import xgboost as xgb\n",
    "train = xgb.DMatrix(X_train, label=y_train)\n",
    "valid = xgb.DMatrix(X_val, label=y_val)\n",
    "\n",
    "\n",
    "# mlflow.sklearn.autolog()\n",
    "\n",
    "with mlflow.start_run():\n",
    "    # mlflow.xgboost.autolog(disable=True)\n",
    "    # mlflow.xgboost.autolog()\n",
    "\n",
    "    params = {\n",
    "    'learning_rate': 0.6240816486229196,\n",
    "    'max_depth': 55,\n",
    "    'min_child_weight': 1.192214620481515,\n",
    "    'reg_alpha': 0.016597419370730778,\n",
    "    'reg_lambda': 0.0072444028346028855,\n",
    "    'seed': 42,\n",
    "    'objective': 'reg:linear'\n",
    "   }\n",
    "    \n",
    "    mlflow.log_params(params)\n",
    "\n",
    "    booster = xgb.train(\n",
    "            params=params,\n",
    "            dtrain=train,\n",
    "            num_boost_round=10,\n",
    "            evals=[(valid, \"validation\")],\n",
    "            early_stopping_rounds=20)\n",
    "\n",
    "    with open('models/preprocessor.b','wb') as f_out:\n",
    "        pickle.dump(dv, f_out)\n",
    "\n",
    "    mlflow.log_artifact('models/preprocessor.b', artifact_path=\"preprocessor\")\n",
    "\n",
    "    mlflow.xgboost.log_model(\n",
    "        xgb_model=booster,\n",
    "        artifact_path=\"model_mlflow\",\n",
    "    )"
   ]
  },
  {
   "cell_type": "code",
   "execution_count": null,
   "id": "fca92d17",
   "metadata": {},
   "outputs": [],
   "source": []
  }
 ],
 "metadata": {
  "kernelspec": {
   "display_name": "Python 3",
   "language": "python",
   "name": "python3"
  },
  "language_info": {
   "codemirror_mode": {
    "name": "ipython",
    "version": 3
   },
   "file_extension": ".py",
   "mimetype": "text/x-python",
   "name": "python",
   "nbconvert_exporter": "python",
   "pygments_lexer": "ipython3",
   "version": "3.12.1"
  }
 },
 "nbformat": 4,
 "nbformat_minor": 5
}
